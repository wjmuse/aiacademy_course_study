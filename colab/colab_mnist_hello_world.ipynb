{
  "nbformat": 4,
  "nbformat_minor": 0,
  "metadata": {
    "colab": {
      "name": "colab_mnist_hello_world.ipynb",
      "version": "0.3.2",
      "provenance": [],
      "collapsed_sections": []
    },
    "kernelspec": {
      "name": "python3",
      "display_name": "Python 3"
    },
    "accelerator": "GPU"
  },
  "cells": [
    {
      "cell_type": "markdown",
      "metadata": {
        "id": "view-in-github",
        "colab_type": "text"
      },
      "source": [
        "[View in Colaboratory](https://colab.research.google.com/github/wjmuse/aiacademy_course_study/blob/master/colab/colab_mnist_hello_world.ipynb)"
      ]
    },
    {
      "metadata": {
        "id": "ckpELLAfBrRG",
        "colab_type": "text"
      },
      "cell_type": "markdown",
      "source": [
        "# Google Colab Hello-World\n",
        "\n",
        "- 在開始之前，先依照此教學，設定 colab 與 google drive 之間的相依關係\n",
        " - https://medium.com/deep-learning-turkey/google-colab-free-gpu-tutorial-e113627b9f5d\n",
        " - 這個範例預設把 colab 與 google drive 的 aia-colab folder 做連結"
      ]
    },
    {
      "metadata": {
        "id": "G353red3B3GD",
        "colab_type": "text"
      },
      "cell_type": "markdown",
      "source": [
        "### Setup environment and credential"
      ]
    },
    {
      "metadata": {
        "id": "n4mFPa3K9CCM",
        "colab_type": "code",
        "colab": {
          "base_uri": "https://localhost:8080/",
          "height": 136
        },
        "outputId": "58b5a1a6-d22e-4683-8379-c0857aafea9d"
      },
      "cell_type": "code",
      "source": [
        "!apt-get install -y -qq software-properties-common python-software-properties module-init-tools\n",
        "!add-apt-repository -y ppa:alessandro-strada/ppa 2>&1 > /dev/null\n",
        "!apt-get update -qq 2>&1 > /dev/null\n",
        "!apt-get -y install -qq google-drive-ocamlfuse fuse\n",
        "from google.colab import auth\n",
        "auth.authenticate_user()\n",
        "from oauth2client.client import GoogleCredentials\n",
        "creds = GoogleCredentials.get_application_default()\n",
        "import getpass\n",
        "!google-drive-ocamlfuse -headless -id={creds.client_id} -secret={creds.client_secret} < /dev/null 2>&1 | grep URL\n",
        "vcode = getpass.getpass()\n",
        "!echo {vcode} | google-drive-ocamlfuse -headless -id={creds.client_id} -secret={creds.client_secret}"
      ],
      "execution_count": 3,
      "outputs": [
        {
          "output_type": "stream",
          "text": [
            "gpg: keybox '/tmp/tmp15r6pk2j/pubring.gpg' created\n",
            "gpg: /tmp/tmp15r6pk2j/trustdb.gpg: trustdb created\n",
            "gpg: key AD5F235DF639B041: public key \"Launchpad PPA for Alessandro Strada\" imported\n",
            "gpg: Total number processed: 1\n",
            "gpg:               imported: 1\n",
            "Warning: apt-key output should not be parsed (stdout is not a terminal)\n",
            "··········\n"
          ],
          "name": "stdout"
        }
      ]
    },
    {
      "metadata": {
        "id": "GtdJspv-cetg",
        "colab_type": "text"
      },
      "cell_type": "markdown",
      "source": [
        "### Show hardware information"
      ]
    },
    {
      "metadata": {
        "id": "XB671PH0ZUhd",
        "colab_type": "code",
        "colab": {
          "base_uri": "https://localhost:8080/",
          "height": 748
        },
        "outputId": "da13394b-e8d8-4c69-c60d-4229bb21e534"
      },
      "cell_type": "code",
      "source": [
        "!cat /proc/meminfo"
      ],
      "execution_count": 16,
      "outputs": [
        {
          "output_type": "stream",
          "text": [
            "MemTotal:       13341832 kB\r\n",
            "MemFree:          826236 kB\r\n",
            "MemAvailable:   11726252 kB\r\n",
            "Buffers:          152360 kB\r\n",
            "Cached:         10660636 kB\r\n",
            "SwapCached:            0 kB\r\n",
            "Active:          3808580 kB\r\n",
            "Inactive:        7903952 kB\r\n",
            "Active(anon):    1080116 kB\r\n",
            "Inactive(anon):    75388 kB\r\n",
            "Active(file):    2728464 kB\r\n",
            "Inactive(file):  7828564 kB\r\n",
            "Unevictable:           0 kB\r\n",
            "Mlocked:               0 kB\r\n",
            "SwapTotal:             0 kB\r\n",
            "SwapFree:              0 kB\r\n",
            "Dirty:               340 kB\r\n",
            "Writeback:             0 kB\r\n",
            "AnonPages:        899608 kB\r\n",
            "Mapped:           395036 kB\r\n",
            "Shmem:            255976 kB\r\n",
            "Slab:             629924 kB\r\n",
            "SReclaimable:     596404 kB\r\n",
            "SUnreclaim:        33520 kB\r\n",
            "KernelStack:        3296 kB\r\n",
            "PageTables:         7296 kB\r\n",
            "NFS_Unstable:          0 kB\r\n",
            "Bounce:                0 kB\r\n",
            "WritebackTmp:          0 kB\r\n",
            "CommitLimit:     6670916 kB\r\n",
            "Committed_AS:    2294812 kB\r\n",
            "VmallocTotal:   34359738367 kB\r\n",
            "VmallocUsed:           0 kB\r\n",
            "VmallocChunk:          0 kB\r\n",
            "AnonHugePages:         0 kB\r\n",
            "HugePages_Total:       0\r\n",
            "HugePages_Free:        0\r\n",
            "HugePages_Rsvd:        0\r\n",
            "HugePages_Surp:        0\r\n",
            "Hugepagesize:       2048 kB\r\n",
            "DirectMap4k:      202700 kB\r\n",
            "DirectMap2M:     3991552 kB\r\n",
            "DirectMap1G:    11534336 kB\r\n"
          ],
          "name": "stdout"
        }
      ]
    },
    {
      "metadata": {
        "id": "zjIGaElrb1kl",
        "colab_type": "code",
        "colab": {
          "base_uri": "https://localhost:8080/",
          "height": 955
        },
        "outputId": "2c4af357-11f1-4f25-dc0e-c4d4a77ebead"
      },
      "cell_type": "code",
      "source": [
        "!cat /proc/cpuinfo"
      ],
      "execution_count": 17,
      "outputs": [
        {
          "output_type": "stream",
          "text": [
            "processor\t: 0\r\n",
            "vendor_id\t: GenuineIntel\r\n",
            "cpu family\t: 6\r\n",
            "model\t\t: 63\r\n",
            "model name\t: Intel(R) Xeon(R) CPU @ 2.30GHz\r\n",
            "stepping\t: 0\r\n",
            "microcode\t: 0x1\r\n",
            "cpu MHz\t\t: 2300.000\r\n",
            "cache size\t: 46080 KB\r\n",
            "physical id\t: 0\r\n",
            "siblings\t: 2\r\n",
            "core id\t\t: 0\r\n",
            "cpu cores\t: 1\r\n",
            "apicid\t\t: 0\r\n",
            "initial apicid\t: 0\r\n",
            "fpu\t\t: yes\r\n",
            "fpu_exception\t: yes\r\n",
            "cpuid level\t: 13\r\n",
            "wp\t\t: yes\r\n",
            "flags\t\t: fpu vme de pse tsc msr pae mce cx8 apic sep mtrr pge mca cmov pat pse36 clflush mmx fxsr sse sse2 ss ht syscall nx pdpe1gb rdtscp lm constant_tsc rep_good nopl xtopology nonstop_tsc eagerfpu pni pclmulqdq ssse3 fma cx16 sse4_1 sse4_2 x2apic movbe popcnt aes xsave avx f16c rdrand hypervisor lahf_lm abm kaiser fsgsbase tsc_adjust bmi1 avx2 smep bmi2 erms xsaveopt\r\n",
            "bugs\t\t:\r\n",
            "bogomips\t: 4600.00\r\n",
            "clflush size\t: 64\r\n",
            "cache_alignment\t: 64\r\n",
            "address sizes\t: 46 bits physical, 48 bits virtual\r\n",
            "power management:\r\n",
            "\r\n",
            "processor\t: 1\r\n",
            "vendor_id\t: GenuineIntel\r\n",
            "cpu family\t: 6\r\n",
            "model\t\t: 63\r\n",
            "model name\t: Intel(R) Xeon(R) CPU @ 2.30GHz\r\n",
            "stepping\t: 0\r\n",
            "microcode\t: 0x1\r\n",
            "cpu MHz\t\t: 2300.000\r\n",
            "cache size\t: 46080 KB\r\n",
            "physical id\t: 0\r\n",
            "siblings\t: 2\r\n",
            "core id\t\t: 0\r\n",
            "cpu cores\t: 1\r\n",
            "apicid\t\t: 1\r\n",
            "initial apicid\t: 1\r\n",
            "fpu\t\t: yes\r\n",
            "fpu_exception\t: yes\r\n",
            "cpuid level\t: 13\r\n",
            "wp\t\t: yes\r\n",
            "flags\t\t: fpu vme de pse tsc msr pae mce cx8 apic sep mtrr pge mca cmov pat pse36 clflush mmx fxsr sse sse2 ss ht syscall nx pdpe1gb rdtscp lm constant_tsc rep_good nopl xtopology nonstop_tsc eagerfpu pni pclmulqdq ssse3 fma cx16 sse4_1 sse4_2 x2apic movbe popcnt aes xsave avx f16c rdrand hypervisor lahf_lm abm kaiser fsgsbase tsc_adjust bmi1 avx2 smep bmi2 erms xsaveopt\r\n",
            "bugs\t\t:\r\n",
            "bogomips\t: 4600.00\r\n",
            "clflush size\t: 64\r\n",
            "cache_alignment\t: 64\r\n",
            "address sizes\t: 46 bits physical, 48 bits virtual\r\n",
            "power management:\r\n",
            "\r\n"
          ],
          "name": "stdout"
        }
      ]
    },
    {
      "metadata": {
        "id": "7MVT8f9fCCh9",
        "colab_type": "text"
      },
      "cell_type": "markdown",
      "source": [
        "### 在 mount Google Drive 之前，預設只能存取 datalab 這個 folder"
      ]
    },
    {
      "metadata": {
        "id": "You0uiYf-vN-",
        "colab_type": "code",
        "colab": {
          "base_uri": "https://localhost:8080/",
          "height": 34
        },
        "outputId": "fc8321dd-4acb-400b-d187-6cddeff02132"
      },
      "cell_type": "code",
      "source": [
        "!ls"
      ],
      "execution_count": 4,
      "outputs": [
        {
          "output_type": "stream",
          "text": [
            "datalab\r\n"
          ],
          "name": "stdout"
        }
      ]
    },
    {
      "metadata": {
        "id": "jCNeDmrMCX8H",
        "colab_type": "text"
      },
      "cell_type": "markdown",
      "source": [
        "### Mount Google Drive"
      ]
    },
    {
      "metadata": {
        "id": "OKI-aQ7T-wG0",
        "colab_type": "code",
        "colab": {}
      },
      "cell_type": "code",
      "source": [
        "!mkdir -p drive\n",
        "!google-drive-ocamlfuse drive"
      ],
      "execution_count": 0,
      "outputs": []
    },
    {
      "metadata": {
        "id": "F_S0itQhCfpm",
        "colab_type": "text"
      },
      "cell_type": "markdown",
      "source": [
        "### 可以存取到自己的 Google Drive 了"
      ]
    },
    {
      "metadata": {
        "id": "ZrDLNSr-_EIW",
        "colab_type": "code",
        "colab": {
          "base_uri": "https://localhost:8080/",
          "height": 102
        },
        "outputId": "f3302658-14fb-4f27-e5a6-ae700627458d"
      },
      "cell_type": "code",
      "source": [
        "!ls drive | head -5"
      ],
      "execution_count": 10,
      "outputs": [
        {
          "output_type": "stream",
          "text": [
            "1003.odt\r\n",
            "1010 report.odt\r\n",
            "10_6 - 10_7 代理事項.pdf\r\n",
            "1101_clicklog.ods\r\n",
            "1101_clicklog - Sheet 1\r\n"
          ],
          "name": "stdout"
        }
      ]
    },
    {
      "metadata": {
        "id": "9nJ-HMvrCnEi",
        "colab_type": "text"
      },
      "cell_type": "markdown",
      "source": [
        "### 確認一下 Keras 已經存在"
      ]
    },
    {
      "metadata": {
        "id": "AP1Kqbo2_FIp",
        "colab_type": "code",
        "colab": {
          "base_uri": "https://localhost:8080/",
          "height": 34
        },
        "outputId": "91285aba-4b60-4965-dd1d-301156fdc5d8"
      },
      "cell_type": "code",
      "source": [
        "import keras"
      ],
      "execution_count": 9,
      "outputs": [
        {
          "output_type": "stream",
          "text": [
            "Using TensorFlow backend.\n"
          ],
          "name": "stderr"
        }
      ]
    },
    {
      "metadata": {
        "id": "KufcaP79XIGt",
        "colab_type": "code",
        "colab": {
          "base_uri": "https://localhost:8080/",
          "height": 34
        },
        "outputId": "37a5e1b5-8c09-4234-8b5c-f9beb9bda594"
      },
      "cell_type": "code",
      "source": [
        "import tensorflow as tf\n",
        "tf.test.gpu_device_name()"
      ],
      "execution_count": 12,
      "outputs": [
        {
          "output_type": "execute_result",
          "data": {
            "text/plain": [
              "'/device:GPU:0'"
            ]
          },
          "metadata": {
            "tags": []
          },
          "execution_count": 12
        }
      ]
    },
    {
      "metadata": {
        "id": "9CjeHh6Tc1He",
        "colab_type": "text"
      },
      "cell_type": "markdown",
      "source": [
        "### Check GPU "
      ]
    },
    {
      "metadata": {
        "id": "He373ImxXR4_",
        "colab_type": "code",
        "colab": {
          "base_uri": "https://localhost:8080/",
          "height": 272
        },
        "outputId": "fba310c1-d1e4-41b5-9770-d6604decf835"
      },
      "cell_type": "code",
      "source": [
        "from tensorflow.python.client import device_lib\n",
        "device_lib.list_local_devices()"
      ],
      "execution_count": 13,
      "outputs": [
        {
          "output_type": "execute_result",
          "data": {
            "text/plain": [
              "[name: \"/device:CPU:0\"\n",
              " device_type: \"CPU\"\n",
              " memory_limit: 268435456\n",
              " locality {\n",
              " }\n",
              " incarnation: 3106182073139956531, name: \"/device:GPU:0\"\n",
              " device_type: \"GPU\"\n",
              " memory_limit: 11288962663\n",
              " locality {\n",
              "   bus_id: 1\n",
              "   links {\n",
              "   }\n",
              " }\n",
              " incarnation: 9176918396740074737\n",
              " physical_device_desc: \"device: 0, name: Tesla K80, pci bus id: 0000:00:04.0, compute capability: 3.7\"]"
            ]
          },
          "metadata": {
            "tags": []
          },
          "execution_count": 13
        }
      ]
    },
    {
      "metadata": {
        "id": "Hs5mKx68DyYU",
        "colab_type": "text"
      },
      "cell_type": "markdown",
      "source": [
        "### 下載 Keras example 來跑一個 mnist 範例\n",
        "\n",
        "\n",
        "*   https://github.com/keras-team/keras/tree/master/examples\n",
        "\n"
      ]
    },
    {
      "metadata": {
        "id": "FcnUAm6u_Ooh",
        "colab_type": "code",
        "colab": {
          "base_uri": "https://localhost:8080/",
          "height": 802
        },
        "outputId": "9f29a2d8-135d-4774-e97d-f5b7a4c50539"
      },
      "cell_type": "code",
      "source": [
        "!python3 drive/aia-colab/examples/mnist_cnn.py\n"
      ],
      "execution_count": 11,
      "outputs": [
        {
          "output_type": "stream",
          "text": [
            "/usr/local/lib/python3.6/dist-packages/h5py/__init__.py:36: FutureWarning: Conversion of the second argument of issubdtype from `float` to `np.floating` is deprecated. In future, it will be treated as `np.float64 == np.dtype(float).type`.\r\n",
            "  from ._conv import register_converters as _register_converters\n",
            "Using TensorFlow backend.\n",
            "Downloading data from https://s3.amazonaws.com/img-datasets/mnist.npz\n",
            "11493376/11490434 [==============================] - 0s 0us/step\n",
            "x_train shape: (60000, 28, 28, 1)\n",
            "60000 train samples\n",
            "10000 test samples\n",
            "Train on 60000 samples, validate on 10000 samples\n",
            "Epoch 1/12\n",
            "2018-05-12 01:40:21.362450: I tensorflow/stream_executor/cuda/cuda_gpu_executor.cc:898] successful NUMA node read from SysFS had negative value (-1), but there must be at least one NUMA node, so returning NUMA node zero\n",
            "2018-05-12 01:40:21.362907: I tensorflow/core/common_runtime/gpu/gpu_device.cc:1344] Found device 0 with properties: \n",
            "name: Tesla K80 major: 3 minor: 7 memoryClockRate(GHz): 0.8235\n",
            "pciBusID: 0000:00:04.0\n",
            "totalMemory: 11.17GiB freeMemory: 11.10GiB\n",
            "2018-05-12 01:40:21.362947: I tensorflow/core/common_runtime/gpu/gpu_device.cc:1423] Adding visible gpu devices: 0\n",
            "2018-05-12 01:40:21.705269: I tensorflow/core/common_runtime/gpu/gpu_device.cc:911] Device interconnect StreamExecutor with strength 1 edge matrix:\n",
            "2018-05-12 01:40:21.705318: I tensorflow/core/common_runtime/gpu/gpu_device.cc:917]      0 \n",
            "2018-05-12 01:40:21.705354: I tensorflow/core/common_runtime/gpu/gpu_device.cc:930] 0:   N \n",
            "2018-05-12 01:40:21.705709: I tensorflow/core/common_runtime/gpu/gpu_device.cc:1041] Created TensorFlow device (/job:localhost/replica:0/task:0/device:GPU:0 with 10765 MB memory) -> physical GPU (device: 0, name: Tesla K80, pci bus id: 0000:00:04.0, compute capability: 3.7)\n",
            "17536/60000 [=======>......................] - ETA: 11s - loss: 0.5444 - acc: 0.8292"
          ],
          "name": "stdout"
        },
        {
          "output_type": "stream",
          "text": [
            "60000/60000 [==============================] - 13s 209us/step - loss: 0.2646 - acc: 0.9188 - val_loss: 0.0576 - val_acc: 0.9814\n",
            "Epoch 2/12\n",
            "60000/60000 [==============================] - 10s 174us/step - loss: 0.0896 - acc: 0.9739 - val_loss: 0.0398 - val_acc: 0.9870\n",
            "Epoch 3/12\n",
            "57856/60000 [===========================>..] - ETA: 0s - loss: 0.0675 - acc: 0.9797"
          ],
          "name": "stdout"
        },
        {
          "output_type": "stream",
          "text": [
            "60000/60000 [==============================] - 10s 173us/step - loss: 0.0671 - acc: 0.9798 - val_loss: 0.0354 - val_acc: 0.9872\n",
            "Epoch 4/12\n",
            "60000/60000 [==============================] - 10s 173us/step - loss: 0.0540 - acc: 0.9842 - val_loss: 0.0319 - val_acc: 0.9895\n",
            "Epoch 5/12\n",
            "60000/60000 [==============================] - 10s 173us/step - loss: 0.0476 - acc: 0.9861 - val_loss: 0.0324 - val_acc: 0.9893\n",
            "Epoch 6/12\n",
            " 4736/60000 [=>............................] - ETA: 9s - loss: 0.0505 - acc: 0.9869"
          ],
          "name": "stdout"
        },
        {
          "output_type": "stream",
          "text": [
            "60000/60000 [==============================] - 10s 175us/step - loss: 0.0411 - acc: 0.9875 - val_loss: 0.0306 - val_acc: 0.9900\n",
            "Epoch 7/12\n",
            "60000/60000 [==============================] - 10s 175us/step - loss: 0.0377 - acc: 0.9886 - val_loss: 0.0291 - val_acc: 0.9908\n",
            "Epoch 8/12\n",
            "55296/60000 [==========================>...] - ETA: 0s - loss: 0.0341 - acc: 0.9900"
          ],
          "name": "stdout"
        },
        {
          "output_type": "stream",
          "text": [
            "60000/60000 [==============================] - 10s 174us/step - loss: 0.0338 - acc: 0.9901 - val_loss: 0.0275 - val_acc: 0.9908\n",
            "Epoch 9/12\n",
            "60000/60000 [==============================] - 10s 174us/step - loss: 0.0315 - acc: 0.9900 - val_loss: 0.0289 - val_acc: 0.9913\n",
            "Epoch 10/12\n",
            "60000/60000 [==============================] - 10s 172us/step - loss: 0.0303 - acc: 0.9909 - val_loss: 0.0275 - val_acc: 0.9909\n",
            "Epoch 11/12\n",
            " 4736/60000 [=>............................] - ETA: 9s - loss: 0.0254 - acc: 0.9926"
          ],
          "name": "stdout"
        },
        {
          "output_type": "stream",
          "text": [
            "60000/60000 [==============================] - 10s 174us/step - loss: 0.0287 - acc: 0.9912 - val_loss: 0.0267 - val_acc: 0.9912\n",
            "Epoch 12/12\n",
            "60000/60000 [==============================] - 10s 174us/step - loss: 0.0262 - acc: 0.9916 - val_loss: 0.0268 - val_acc: 0.9912\n",
            "Test loss: 0.02678358342868296\n",
            "Test accuracy: 0.9912\n"
          ],
          "name": "stdout"
        }
      ]
    },
    {
      "metadata": {
        "id": "3tRfxz8JAW4h",
        "colab_type": "code",
        "colab": {}
      },
      "cell_type": "code",
      "source": [
        ""
      ],
      "execution_count": 0,
      "outputs": []
    }
  ]
}