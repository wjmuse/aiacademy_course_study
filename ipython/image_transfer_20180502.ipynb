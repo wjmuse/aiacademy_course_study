{
 "cells": [
  {
   "cell_type": "code",
   "execution_count": 1,
   "metadata": {},
   "outputs": [
    {
     "name": "stderr",
     "output_type": "stream",
     "text": [
      "Using TensorFlow backend.\n"
     ]
    }
   ],
   "source": [
    "from __future__ import print_function\n",
    "%matplotlib inline\n",
    "\n",
    "from sklearn.model_selection import train_test_split,GridSearchCV\n",
    "import pandas as pd\n",
    "import numpy as np\n",
    "from collections import Counter\n",
    "from PIL import Image as PImage\n",
    "from os import listdir\n",
    "from pickle import dump\n",
    "import matplotlib.pyplot as plt\n",
    "import PIL, cv2, os, json\n",
    "\n",
    "\n",
    "import keras, h5py\n",
    "import tensorflow as tf\n",
    "from keras.datasets import mnist\n",
    "from keras.models import Sequential\n",
    "from keras.layers import Dense, Dropout, Flatten, Conv2D, MaxPooling2D\n",
    "from keras import backend as K\n",
    "from keras.utils import to_categorical\n",
    "from keras.backend.tensorflow_backend import set_session\n",
    "from keras.callbacks import TensorBoard"
   ]
  },
  {
   "cell_type": "markdown",
   "metadata": {},
   "source": [
    "### Set TF config \n",
    "\n",
    " - mainly used to restrict memory usage"
   ]
  },
  {
   "cell_type": "code",
   "execution_count": 2,
   "metadata": {},
   "outputs": [],
   "source": [
    "config = tf.ConfigProto()\n",
    "config.gpu_options.per_process_gpu_memory_fraction = 0.4\n",
    "set_session(tf.Session(config=config))"
   ]
  },
  {
   "cell_type": "code",
   "execution_count": 3,
   "metadata": {},
   "outputs": [
    {
     "name": "stdout",
     "output_type": "stream",
     "text": [
      "[name: \"/device:CPU:0\"\n",
      "device_type: \"CPU\"\n",
      "memory_limit: 268435456\n",
      "locality {\n",
      "}\n",
      "incarnation: 9693956880072670425\n",
      ", name: \"/device:GPU:0\"\n",
      "device_type: \"GPU\"\n",
      "memory_limit: 5695799296\n",
      "locality {\n",
      "  bus_id: 1\n",
      "}\n",
      "incarnation: 18126924544315920292\n",
      "physical_device_desc: \"device: 0, name: TITAN Xp, pci bus id: 0000:02:00.0, compute capability: 6.1\"\n",
      "]\n"
     ]
    }
   ],
   "source": [
    "from tensorflow.python.client import device_lib\n",
    "print(device_lib.list_local_devices())"
   ]
  },
  {
   "cell_type": "markdown",
   "metadata": {},
   "source": [
    "## Image Training Data"
   ]
  },
  {
   "cell_type": "code",
   "execution_count": 4,
   "metadata": {},
   "outputs": [
    {
     "name": "stdout",
     "output_type": "stream",
     "text": [
      "image_0001.jpg\timage_0030.jpg\timage_0059.jpg\timage_0088.jpg\timage_0117.jpg\r\n",
      "image_0002.jpg\timage_0031.jpg\timage_0060.jpg\timage_0089.jpg\timage_0118.jpg\r\n",
      "image_0003.jpg\timage_0032.jpg\timage_0061.jpg\timage_0090.jpg\timage_0119.jpg\r\n",
      "image_0004.jpg\timage_0033.jpg\timage_0062.jpg\timage_0091.jpg\timage_0120.jpg\r\n",
      "image_0005.jpg\timage_0034.jpg\timage_0063.jpg\timage_0092.jpg\timage_0121.jpg\r\n",
      "image_0006.jpg\timage_0035.jpg\timage_0064.jpg\timage_0093.jpg\timage_0122.jpg\r\n",
      "image_0007.jpg\timage_0036.jpg\timage_0065.jpg\timage_0094.jpg\timage_0123.jpg\r\n",
      "image_0008.jpg\timage_0037.jpg\timage_0066.jpg\timage_0095.jpg\timage_0124.jpg\r\n",
      "image_0009.jpg\timage_0038.jpg\timage_0067.jpg\timage_0096.jpg\timage_0125.jpg\r\n",
      "image_0010.jpg\timage_0039.jpg\timage_0068.jpg\timage_0097.jpg\timage_0126.jpg\r\n",
      "image_0011.jpg\timage_0040.jpg\timage_0069.jpg\timage_0098.jpg\timage_0127.jpg\r\n",
      "image_0012.jpg\timage_0041.jpg\timage_0070.jpg\timage_0099.jpg\timage_0128.jpg\r\n",
      "image_0013.jpg\timage_0042.jpg\timage_0071.jpg\timage_0100.jpg\timage_0129.jpg\r\n",
      "image_0014.jpg\timage_0043.jpg\timage_0072.jpg\timage_0101.jpg\timage_0130.jpg\r\n",
      "image_0015.jpg\timage_0044.jpg\timage_0073.jpg\timage_0102.jpg\timage_0131.jpg\r\n",
      "image_0016.jpg\timage_0045.jpg\timage_0074.jpg\timage_0103.jpg\timage_0132.jpg\r\n",
      "image_0017.jpg\timage_0046.jpg\timage_0075.jpg\timage_0104.jpg\timage_0133.jpg\r\n",
      "image_0018.jpg\timage_0047.jpg\timage_0076.jpg\timage_0105.jpg\timage_0134.jpg\r\n",
      "image_0019.jpg\timage_0048.jpg\timage_0077.jpg\timage_0106.jpg\timage_0135.jpg\r\n",
      "image_0020.jpg\timage_0049.jpg\timage_0078.jpg\timage_0107.jpg\timage_0136.jpg\r\n",
      "image_0021.jpg\timage_0050.jpg\timage_0079.jpg\timage_0108.jpg\timage_0137.jpg\r\n",
      "image_0022.jpg\timage_0051.jpg\timage_0080.jpg\timage_0109.jpg\timage_0138.jpg\r\n",
      "image_0023.jpg\timage_0052.jpg\timage_0081.jpg\timage_0110.jpg\timage_0139.jpg\r\n",
      "image_0024.jpg\timage_0053.jpg\timage_0082.jpg\timage_0111.jpg\timage_0140.jpg\r\n",
      "image_0025.jpg\timage_0054.jpg\timage_0083.jpg\timage_0112.jpg\timage_0141.jpg\r\n",
      "image_0026.jpg\timage_0055.jpg\timage_0084.jpg\timage_0113.jpg\r\n",
      "image_0027.jpg\timage_0056.jpg\timage_0085.jpg\timage_0114.jpg\r\n",
      "image_0028.jpg\timage_0057.jpg\timage_0086.jpg\timage_0115.jpg\r\n",
      "image_0029.jpg\timage_0058.jpg\timage_0087.jpg\timage_0116.jpg\r\n"
     ]
    }
   ],
   "source": [
    "!ls ../../aiacademy-learning-notebook/Midterm_Image/train/CALsuburb/"
   ]
  },
  {
   "cell_type": "code",
   "execution_count": 5,
   "metadata": {},
   "outputs": [],
   "source": [
    "train_dir = '../../aiacademy-learning-notebook/Midterm_Image'"
   ]
  },
  {
   "cell_type": "code",
   "execution_count": 6,
   "metadata": {},
   "outputs": [
    {
     "data": {
      "image/jpeg": "[encoded data removed]",
      "text/plain": [
       "<IPython.core.display.Image object>"
      ]
     },
     "execution_count": 6,
     "metadata": {},
     "output_type": "execute_result"
    }
   ],
   "source": [
    "from IPython.display import Image\n",
    "Image(os.path.join(train_dir, 'train/CALsuburb/image_0001.jpg'))"
   ]
  },
  {
   "cell_type": "code",
   "execution_count": 7,
   "metadata": {},
   "outputs": [],
   "source": [
    "df = pd.read_csv(\"../../aiacademy-learning-notebook/Midterm_Image/mapping.csv\",header=None)"
   ]
  },
  {
   "cell_type": "code",
   "execution_count": 8,
   "metadata": {},
   "outputs": [
    {
     "data": {
      "text/plain": [
       "{'CALsuburb': 9,\n",
       " 'PARoffice': 7,\n",
       " 'bedroom': 12,\n",
       " 'coast': 10,\n",
       " 'forest': 4,\n",
       " 'highway': 14,\n",
       " 'industrial': 2,\n",
       " 'insidecity': 3,\n",
       " 'kitchen': 0,\n",
       " 'livingroom': 5,\n",
       " 'mountain': 8,\n",
       " 'opencountry': 6,\n",
       " 'store': 11,\n",
       " 'street': 1,\n",
       " 'tallbuilding': 13}"
      ]
     },
     "execution_count": 8,
     "metadata": {},
     "output_type": "execute_result"
    }
   ],
   "source": [
    "m = dict()\n",
    "for cate,i in zip(df[0],df[1]):\n",
    "    m[cate] = i\n",
    "m"
   ]
  },
  {
   "cell_type": "markdown",
   "metadata": {},
   "source": [
    "### manipulate image"
   ]
  },
  {
   "cell_type": "code",
   "execution_count": 9,
   "metadata": {},
   "outputs": [],
   "source": [
    "from imgaug import augmenters as iaa\n",
    "import imgaug as ia\n",
    "\n",
    "seq = iaa.Sequential([\n",
    "                    iaa.Fliplr(0.5),               # 左右翻轉\n",
    "                    iaa.Flipud(0.5),               # 上下翻轉\n",
    "                    iaa.Affine(rotate=(-90, 90),   # 旋轉\n",
    "                    scale=(0.6, 1.4),              # 縮放\n",
    "                    mode = 'edge',                 # 影像翻轉造成區塊缺值的補值方式\n",
    "                    translate_percent={\"x\": (-0.2, 0.2), \"y\": (-0.2, 0.2)})]) # 平移\n",
    "#img = seq.augment_image(img)"
   ]
  },
  {
   "cell_type": "markdown",
   "metadata": {},
   "source": [
    "### Prepare training data"
   ]
  },
  {
   "cell_type": "code",
   "execution_count": 10,
   "metadata": {},
   "outputs": [],
   "source": [
    "label =[]\n",
    "images_flist = []\n",
    "import os\n",
    "for cate in m.keys():\n",
    "    dc = os.path.join(train_dir, \"train/\" + cate + \"/\") \n",
    "    for fname in os.listdir(dc):\n",
    "        fpath = dc + fname\n",
    "        label.append(m[cate])\n",
    "        images_flist.append(fpath)\n",
    "\n",
    "X_imgf_train, X_imgf_test, y_train, y_test = train_test_split(images_flist, label, test_size=0.1, random_state=100)"
   ]
  },
  {
   "cell_type": "code",
   "execution_count": 11,
   "metadata": {},
   "outputs": [],
   "source": [
    "total_images = len(label)\n",
    "lc = Counter(label)"
   ]
  },
  {
   "cell_type": "markdown",
   "metadata": {},
   "source": [
    "### Read and resize image"
   ]
  },
  {
   "cell_type": "code",
   "execution_count": 12,
   "metadata": {},
   "outputs": [],
   "source": [
    "def readImg(flist, labels, is_aug=False):\n",
    "    images = []\n",
    "    r_lable = []\n",
    "    for fname,label in zip(flist,labels):\n",
    "        img = cv2.imread(fname)\n",
    "        img = cv2.resize(img, (224, 224))\n",
    "        \n",
    "        images.append(img) \n",
    "        r_lable.append(label)     \n",
    "        \n",
    "        if is_aug==True:\n",
    "            for _ in range( int(0.3*total_images/lc[label] )  ):\n",
    "\n",
    "                resized_image = seq.augment_image(img)\n",
    "                images.append(resized_image) \n",
    "                r_lable.append(label)\n",
    "\n",
    "    return (images,r_lable)"
   ]
  },
  {
   "cell_type": "code",
   "execution_count": 13,
   "metadata": {},
   "outputs": [],
   "source": [
    "X_train, y_train  = readImg(X_imgf_train, y_train, is_aug=True)"
   ]
  },
  {
   "cell_type": "markdown",
   "metadata": {},
   "source": [
    "### Show all label count"
   ]
  },
  {
   "cell_type": "code",
   "execution_count": 14,
   "metadata": {},
   "outputs": [
    {
     "data": {
      "text/plain": [
       "Counter({0: 882,\n",
       "         1: 850,\n",
       "         2: 950,\n",
       "         3: 935,\n",
       "         4: 816,\n",
       "         5: 875,\n",
       "         6: 834,\n",
       "         7: 808,\n",
       "         8: 984,\n",
       "         9: 896,\n",
       "         10: 924,\n",
       "         11: 990,\n",
       "         12: 800,\n",
       "         13: 952,\n",
       "         14: 852})"
      ]
     },
     "execution_count": 14,
     "metadata": {},
     "output_type": "execute_result"
    }
   ],
   "source": [
    "Counter(y_train)"
   ]
  },
  {
   "cell_type": "code",
   "execution_count": 15,
   "metadata": {},
   "outputs": [
    {
     "data": {
      "text/plain": [
       "(224, 224, 3)"
      ]
     },
     "execution_count": 15,
     "metadata": {},
     "output_type": "execute_result"
    }
   ],
   "source": [
    "X_train[0].shape"
   ]
  },
  {
   "cell_type": "code",
   "execution_count": 16,
   "metadata": {},
   "outputs": [],
   "source": [
    "from keras.applications.vgg16 import preprocess_input\n",
    "X_train = np.array(X_train)"
   ]
  },
  {
   "cell_type": "code",
   "execution_count": 17,
   "metadata": {},
   "outputs": [
    {
     "data": {
      "text/plain": [
       "array([[[100, 100, 100],\n",
       "        [101, 101, 101],\n",
       "        [112, 112, 112],\n",
       "        ..., \n",
       "        [ 78,  78,  78],\n",
       "        [ 93,  93,  93],\n",
       "        [ 67,  67,  67]],\n",
       "\n",
       "       [[158, 158, 158],\n",
       "        [177, 177, 177],\n",
       "        [154, 154, 154],\n",
       "        ..., \n",
       "        [101, 101, 101],\n",
       "        [125, 125, 125],\n",
       "        [108, 108, 108]],\n",
       "\n",
       "       [[170, 170, 170],\n",
       "        [223, 223, 223],\n",
       "        [199, 199, 199],\n",
       "        ..., \n",
       "        [100, 100, 100],\n",
       "        [122, 122, 122],\n",
       "        [106, 106, 106]],\n",
       "\n",
       "       ..., \n",
       "       [[ 63,  63,  63],\n",
       "        [ 75,  75,  75],\n",
       "        [ 74,  74,  74],\n",
       "        ..., \n",
       "        [ 93,  93,  93],\n",
       "        [ 93,  93,  93],\n",
       "        [ 73,  73,  73]],\n",
       "\n",
       "       [[ 61,  61,  61],\n",
       "        [ 74,  74,  74],\n",
       "        [ 73,  73,  73],\n",
       "        ..., \n",
       "        [ 98,  98,  98],\n",
       "        [100, 100, 100],\n",
       "        [ 83,  83,  83]],\n",
       "\n",
       "       [[ 51,  51,  51],\n",
       "        [ 63,  63,  63],\n",
       "        [ 62,  62,  62],\n",
       "        ..., \n",
       "        [ 69,  69,  69],\n",
       "        [ 74,  74,  74],\n",
       "        [ 57,  57,  57]]], dtype=uint8)"
      ]
     },
     "execution_count": 17,
     "metadata": {},
     "output_type": "execute_result"
    }
   ],
   "source": [
    "X_train[0]"
   ]
  },
  {
   "cell_type": "code",
   "execution_count": 18,
   "metadata": {},
   "outputs": [],
   "source": [
    "X_train = preprocess_input(X_train.astype(np.float32))"
   ]
  },
  {
   "cell_type": "code",
   "execution_count": 19,
   "metadata": {},
   "outputs": [
    {
     "data": {
      "text/plain": [
       "array([[[  -3.93900299,  -16.77899933,  -23.68000031],\n",
       "        [  -2.93900299,  -15.77899933,  -22.68000031],\n",
       "        [   8.06099701,   -4.77899933,  -11.68000031],\n",
       "        ..., \n",
       "        [ -25.93900299,  -38.77899933,  -45.68000031],\n",
       "        [ -10.93900299,  -23.77899933,  -30.68000031],\n",
       "        [ -36.93900299,  -49.77899933,  -56.68000031]],\n",
       "\n",
       "       [[  54.06099701,   41.22100067,   34.31999969],\n",
       "        [  73.06099701,   60.22100067,   53.31999969],\n",
       "        [  50.06099701,   37.22100067,   30.31999969],\n",
       "        ..., \n",
       "        [  -2.93900299,  -15.77899933,  -22.68000031],\n",
       "        [  21.06099701,    8.22100067,    1.31999969],\n",
       "        [   4.06099701,   -8.77899933,  -15.68000031]],\n",
       "\n",
       "       [[  66.06099701,   53.22100067,   46.31999969],\n",
       "        [ 119.06099701,  106.22100067,   99.31999969],\n",
       "        [  95.06099701,   82.22100067,   75.31999969],\n",
       "        ..., \n",
       "        [  -3.93900299,  -16.77899933,  -23.68000031],\n",
       "        [  18.06099701,    5.22100067,   -1.68000031],\n",
       "        [   2.06099701,  -10.77899933,  -17.68000031]],\n",
       "\n",
       "       ..., \n",
       "       [[ -40.93900299,  -53.77899933,  -60.68000031],\n",
       "        [ -28.93900299,  -41.77899933,  -48.68000031],\n",
       "        [ -29.93900299,  -42.77899933,  -49.68000031],\n",
       "        ..., \n",
       "        [ -10.93900299,  -23.77899933,  -30.68000031],\n",
       "        [ -10.93900299,  -23.77899933,  -30.68000031],\n",
       "        [ -30.93900299,  -43.77899933,  -50.68000031]],\n",
       "\n",
       "       [[ -42.93900299,  -55.77899933,  -62.68000031],\n",
       "        [ -29.93900299,  -42.77899933,  -49.68000031],\n",
       "        [ -30.93900299,  -43.77899933,  -50.68000031],\n",
       "        ..., \n",
       "        [  -5.93900299,  -18.77899933,  -25.68000031],\n",
       "        [  -3.93900299,  -16.77899933,  -23.68000031],\n",
       "        [ -20.93900299,  -33.77899933,  -40.68000031]],\n",
       "\n",
       "       [[ -52.93900299,  -65.77899933,  -72.68000031],\n",
       "        [ -40.93900299,  -53.77899933,  -60.68000031],\n",
       "        [ -41.93900299,  -54.77899933,  -61.68000031],\n",
       "        ..., \n",
       "        [ -34.93900299,  -47.77899933,  -54.68000031],\n",
       "        [ -29.93900299,  -42.77899933,  -49.68000031],\n",
       "        [ -46.93900299,  -59.77899933,  -66.68000031]]], dtype=float32)"
      ]
     },
     "execution_count": 19,
     "metadata": {},
     "output_type": "execute_result"
    }
   ],
   "source": [
    "X_train[0]"
   ]
  },
  {
   "cell_type": "code",
   "execution_count": 20,
   "metadata": {},
   "outputs": [
    {
     "data": {
      "text/plain": [
       "(13348, 224, 224, 3)"
      ]
     },
     "execution_count": 20,
     "metadata": {},
     "output_type": "execute_result"
    }
   ],
   "source": [
    "X_train.shape"
   ]
  },
  {
   "cell_type": "code",
   "execution_count": 21,
   "metadata": {},
   "outputs": [
    {
     "data": {
      "text/plain": [
       "(224, 224, 3)"
      ]
     },
     "execution_count": 21,
     "metadata": {},
     "output_type": "execute_result"
    }
   ],
   "source": [
    "X_train[0].shape"
   ]
  },
  {
   "cell_type": "code",
   "execution_count": 22,
   "metadata": {},
   "outputs": [],
   "source": [
    "y_train = to_categorical(y_train)"
   ]
  },
  {
   "cell_type": "code",
   "execution_count": 23,
   "metadata": {},
   "outputs": [],
   "source": [
    "X_test,y_test  = readImg(X_imgf_test,y_test,is_aug=False)"
   ]
  },
  {
   "cell_type": "code",
   "execution_count": 24,
   "metadata": {},
   "outputs": [],
   "source": [
    "X_test = np.array(X_test)\n",
    "X_test = preprocess_input(X_test.astype(np.float32))"
   ]
  },
  {
   "cell_type": "code",
   "execution_count": 25,
   "metadata": {},
   "outputs": [],
   "source": [
    "y_test = to_categorical(y_test)"
   ]
  },
  {
   "cell_type": "markdown",
   "metadata": {},
   "source": [
    "### Start To Load Model"
   ]
  },
  {
   "cell_type": "code",
   "execution_count": 26,
   "metadata": {},
   "outputs": [],
   "source": [
    "from keras.applications.vgg16 import VGG16\n",
    "from keras.preprocessing.image import load_img\n",
    "from keras.preprocessing.image import img_to_array\n",
    "from keras.models import Model"
   ]
  },
  {
   "cell_type": "code",
   "execution_count": 27,
   "metadata": {},
   "outputs": [
    {
     "name": "stdout",
     "output_type": "stream",
     "text": [
      "_________________________________________________________________\n",
      "Layer (type)                 Output Shape              Param #   \n",
      "=================================================================\n",
      "input_1 (InputLayer)         (None, 224, 224, 3)       0         \n",
      "_________________________________________________________________\n",
      "block1_conv1 (Conv2D)        (None, 224, 224, 64)      1792      \n",
      "_________________________________________________________________\n",
      "block1_conv2 (Conv2D)        (None, 224, 224, 64)      36928     \n",
      "_________________________________________________________________\n",
      "block1_pool (MaxPooling2D)   (None, 112, 112, 64)      0         \n",
      "_________________________________________________________________\n",
      "block2_conv1 (Conv2D)        (None, 112, 112, 128)     73856     \n",
      "_________________________________________________________________\n",
      "block2_conv2 (Conv2D)        (None, 112, 112, 128)     147584    \n",
      "_________________________________________________________________\n",
      "block2_pool (MaxPooling2D)   (None, 56, 56, 128)       0         \n",
      "_________________________________________________________________\n",
      "block3_conv1 (Conv2D)        (None, 56, 56, 256)       295168    \n",
      "_________________________________________________________________\n",
      "block3_conv2 (Conv2D)        (None, 56, 56, 256)       590080    \n",
      "_________________________________________________________________\n",
      "block3_conv3 (Conv2D)        (None, 56, 56, 256)       590080    \n",
      "_________________________________________________________________\n",
      "block3_pool (MaxPooling2D)   (None, 28, 28, 256)       0         \n",
      "_________________________________________________________________\n",
      "block4_conv1 (Conv2D)        (None, 28, 28, 512)       1180160   \n",
      "_________________________________________________________________\n",
      "block4_conv2 (Conv2D)        (None, 28, 28, 512)       2359808   \n",
      "_________________________________________________________________\n",
      "block4_conv3 (Conv2D)        (None, 28, 28, 512)       2359808   \n",
      "_________________________________________________________________\n",
      "block4_pool (MaxPooling2D)   (None, 14, 14, 512)       0         \n",
      "_________________________________________________________________\n",
      "block5_conv1 (Conv2D)        (None, 14, 14, 512)       2359808   \n",
      "_________________________________________________________________\n",
      "block5_conv2 (Conv2D)        (None, 14, 14, 512)       2359808   \n",
      "_________________________________________________________________\n",
      "block5_conv3 (Conv2D)        (None, 14, 14, 512)       2359808   \n",
      "_________________________________________________________________\n",
      "block5_pool (MaxPooling2D)   (None, 7, 7, 512)         0         \n",
      "_________________________________________________________________\n",
      "flatten (Flatten)            (None, 25088)             0         \n",
      "_________________________________________________________________\n",
      "fc1 (Dense)                  (None, 4096)              102764544 \n",
      "_________________________________________________________________\n",
      "fc2 (Dense)                  (None, 4096)              16781312  \n",
      "=================================================================\n",
      "Total params: 134,260,544\n",
      "Trainable params: 134,260,544\n",
      "Non-trainable params: 0\n",
      "_________________________________________________________________\n",
      "None\n"
     ]
    }
   ],
   "source": [
    "# load the model\n",
    "base_model = VGG16()\n",
    "# re-structure the model\n",
    "base_model.layers.pop()\n",
    "model = Model(inputs=base_model.inputs, outputs=[base_model.layers[-1].output])\n",
    "# summarize\n",
    "print(model.summary())\n",
    "# extract features from each photo"
   ]
  },
  {
   "cell_type": "code",
   "execution_count": 28,
   "metadata": {},
   "outputs": [],
   "source": [
    "X_train_new = model.predict(X_train, verbose=0)\n",
    "X_train_new.dump(\"./X_train_new.pk\")"
   ]
  },
  {
   "cell_type": "code",
   "execution_count": 29,
   "metadata": {},
   "outputs": [],
   "source": [
    "X_test_new = model.predict(X_test, verbose=0)"
   ]
  },
  {
   "cell_type": "code",
   "execution_count": 30,
   "metadata": {},
   "outputs": [
    {
     "data": {
      "text/plain": [
       "(299, 4096)"
      ]
     },
     "execution_count": 30,
     "metadata": {},
     "output_type": "execute_result"
    }
   ],
   "source": [
    "X_test_new.shape"
   ]
  },
  {
   "cell_type": "code",
   "execution_count": 52,
   "metadata": {},
   "outputs": [
    {
     "data": {
      "text/plain": [
       "<matplotlib.image.AxesImage at 0x7f571c13a240>"
      ]
     },
     "execution_count": 52,
     "metadata": {},
     "output_type": "execute_result"
    },
    {
     "data": {
      "image/png": "[encoded data removed]",
      "text/plain": [
       "<Figure size 432x288 with 1 Axes>"
      ]
     },
     "metadata": {},
     "output_type": "display_data"
    }
   ],
   "source": [
    "# plt.imshow(X_test_new[0][3])"
   ]
  },
  {
   "cell_type": "code",
   "execution_count": null,
   "metadata": {},
   "outputs": [],
   "source": []
  },
  {
   "cell_type": "code",
   "execution_count": 31,
   "metadata": {},
   "outputs": [],
   "source": [
    "from keras.models import Model\n",
    "from keras.layers import Input, Dense, Flatten\n",
    "from keras.layers import Conv2D,Dropout,BatchNormalization\n",
    "from keras import regularizers"
   ]
  },
  {
   "cell_type": "markdown",
   "metadata": {},
   "source": [
    "### Transfer Learning Flow"
   ]
  },
  {
   "cell_type": "code",
   "execution_count": 32,
   "metadata": {},
   "outputs": [
    {
     "name": "stdout",
     "output_type": "stream",
     "text": [
      "_________________________________________________________________\n",
      "Layer (type)                 Output Shape              Param #   \n",
      "=================================================================\n",
      "input_2 (InputLayer)         (None, 4096)              0         \n",
      "_________________________________________________________________\n",
      "dropout_1 (Dropout)          (None, 4096)              0         \n",
      "_________________________________________________________________\n",
      "dense_1 (Dense)              (None, 1024)              4195328   \n",
      "_________________________________________________________________\n",
      "batch_normalization_1 (Batch (None, 1024)              4096      \n",
      "_________________________________________________________________\n",
      "dense_2 (Dense)              (None, 64)                65600     \n",
      "_________________________________________________________________\n",
      "dense_3 (Dense)              (None, 15)                975       \n",
      "=================================================================\n",
      "Total params: 4,265,999\n",
      "Trainable params: 4,263,951\n",
      "Non-trainable params: 2,048\n",
      "_________________________________________________________________\n"
     ]
    }
   ],
   "source": [
    "newInput = Input(shape=[4096])\n",
    "drop1 = Dropout(0.05)(newInput)\n",
    "d1 = Dense(1024,activation='relu',kernel_regularizer=regularizers.l1(0.0003))(drop1)\n",
    "# drop2 = Dropout(0.1)(d1)\n",
    "b1= BatchNormalization()(d1)\n",
    "d2 = Dense(64,activation='relu', kernel_regularizer=regularizers.l2(0.0003))(b1)\n",
    "output = Dense(15,activation='softmax')(d2)\n",
    "model_new = Model(inputs=[newInput], outputs=[output])\n",
    "model_new.summary()"
   ]
  },
  {
   "cell_type": "code",
   "execution_count": 33,
   "metadata": {},
   "outputs": [],
   "source": [
    "from keras.optimizers import Adam\n",
    "from keras.losses import categorical_crossentropy\n",
    "model_new.compile(optimizer=Adam(),\n",
    "              loss=categorical_crossentropy, metrics=['acc',])"
   ]
  },
  {
   "cell_type": "code",
   "execution_count": 35,
   "metadata": {},
   "outputs": [
    {
     "name": "stdout",
     "output_type": "stream",
     "text": [
      "Train on 13348 samples, validate on 299 samples\n",
      "Epoch 1/20\n",
      "13348/13348 [==============================] - 3s 220us/step - loss: 3.0828 - acc: 0.7177 - val_loss: 2.9178 - val_acc: 0.7358\n",
      "Epoch 2/20\n",
      "13348/13348 [==============================] - 3s 207us/step - loss: 2.8130 - acc: 0.7255 - val_loss: 2.3448 - val_acc: 0.8227\n",
      "Epoch 3/20\n",
      "13348/13348 [==============================] - 3s 240us/step - loss: 2.6509 - acc: 0.7377 - val_loss: 2.3779 - val_acc: 0.8094\n",
      "Epoch 4/20\n",
      "13348/13348 [==============================] - 3s 225us/step - loss: 2.4155 - acc: 0.7566 - val_loss: 2.1581 - val_acc: 0.8060\n",
      "Epoch 5/20\n",
      "13348/13348 [==============================] - 3s 219us/step - loss: 2.3334 - acc: 0.7667 - val_loss: 2.1521 - val_acc: 0.7926\n",
      "Epoch 6/20\n",
      "13348/13348 [==============================] - 3s 216us/step - loss: 2.1741 - acc: 0.7768 - val_loss: 2.0673 - val_acc: 0.8261\n",
      "Epoch 7/20\n",
      "13348/13348 [==============================] - 3s 238us/step - loss: 2.0551 - acc: 0.7899 - val_loss: 2.2139 - val_acc: 0.7492\n",
      "Epoch 8/20\n",
      "13348/13348 [==============================] - 3s 213us/step - loss: 1.9604 - acc: 0.8030 - val_loss: 1.7511 - val_acc: 0.8495\n",
      "Epoch 9/20\n",
      "13348/13348 [==============================] - 3s 249us/step - loss: 1.8531 - acc: 0.8111 - val_loss: 1.7059 - val_acc: 0.8528\n",
      "Epoch 10/20\n",
      "13348/13348 [==============================] - 3s 233us/step - loss: 1.7967 - acc: 0.8231 - val_loss: 1.5882 - val_acc: 0.8863\n",
      "Epoch 11/20\n",
      "13348/13348 [==============================] - 3s 224us/step - loss: 1.6484 - acc: 0.8343 - val_loss: 1.5292 - val_acc: 0.8729\n",
      "Epoch 12/20\n",
      "13348/13348 [==============================] - 2s 186us/step - loss: 1.5713 - acc: 0.8389 - val_loss: 1.5523 - val_acc: 0.8528\n",
      "Epoch 13/20\n",
      "13348/13348 [==============================] - 2s 179us/step - loss: 1.5213 - acc: 0.8427 - val_loss: 1.5553 - val_acc: 0.8562\n",
      "Epoch 14/20\n",
      "13348/13348 [==============================] - 3s 209us/step - loss: 1.4424 - acc: 0.8468 - val_loss: 1.5307 - val_acc: 0.8763\n",
      "Epoch 15/20\n",
      "13348/13348 [==============================] - 3s 215us/step - loss: 1.4139 - acc: 0.8554 - val_loss: 1.4539 - val_acc: 0.8462\n",
      "Epoch 16/20\n",
      "13348/13348 [==============================] - 2s 185us/step - loss: 1.3456 - acc: 0.8568 - val_loss: 1.3438 - val_acc: 0.8796\n",
      "Epoch 17/20\n",
      "13348/13348 [==============================] - 2s 178us/step - loss: 1.2986 - acc: 0.8623 - val_loss: 1.3256 - val_acc: 0.8662\n",
      "Epoch 18/20\n",
      "13348/13348 [==============================] - 3s 194us/step - loss: 1.3021 - acc: 0.8645 - val_loss: 1.3120 - val_acc: 0.8863\n",
      "Epoch 19/20\n",
      "13348/13348 [==============================] - 3s 212us/step - loss: 1.2067 - acc: 0.8670 - val_loss: 1.3123 - val_acc: 0.8662\n",
      "Epoch 20/20\n",
      "13348/13348 [==============================] - 3s 205us/step - loss: 1.2329 - acc: 0.8704 - val_loss: 1.3037 - val_acc: 0.8595\n"
     ]
    },
    {
     "data": {
      "text/plain": [
       "<keras.callbacks.History at 0x7f198408fba8>"
      ]
     },
     "execution_count": 35,
     "metadata": {},
     "output_type": "execute_result"
    }
   ],
   "source": [
    "model_new.fit(x = [X_train_new],\n",
    "              y = [y_train] ,\n",
    "              validation_data = [X_test_new, y_test],\n",
    "              epochs = 20,\n",
    "              shuffle = True)"
   ]
  },
  {
   "cell_type": "code",
   "execution_count": 36,
   "metadata": {},
   "outputs": [
    {
     "name": "stdout",
     "output_type": "stream",
     "text": [
      "_________________________________________________________________\n",
      "Layer (type)                 Output Shape              Param #   \n",
      "=================================================================\n",
      "input_2 (InputLayer)         (None, 4096)              0         \n",
      "_________________________________________________________________\n",
      "dropout_1 (Dropout)          (None, 4096)              0         \n",
      "_________________________________________________________________\n",
      "dense_1 (Dense)              (None, 1024)              4195328   \n",
      "_________________________________________________________________\n",
      "batch_normalization_1 (Batch (None, 1024)              4096      \n",
      "_________________________________________________________________\n",
      "dense_2 (Dense)              (None, 64)                65600     \n",
      "_________________________________________________________________\n",
      "dense_3 (Dense)              (None, 15)                975       \n",
      "=================================================================\n",
      "Total params: 4,265,999\n",
      "Trainable params: 4,263,951\n",
      "Non-trainable params: 2,048\n",
      "_________________________________________________________________\n"
     ]
    }
   ],
   "source": [
    "model_new.summary()"
   ]
  },
  {
   "cell_type": "code",
   "execution_count": 37,
   "metadata": {},
   "outputs": [],
   "source": [
    "model_new.save('../model/VGG16_transfer_15.h5')"
   ]
  },
  {
   "cell_type": "code",
   "execution_count": null,
   "metadata": {},
   "outputs": [],
   "source": []
  },
  {
   "cell_type": "code",
   "execution_count": 57,
   "metadata": {},
   "outputs": [],
   "source": [
    "#http://yenlung-blog.logdown.com/posts/864703-deep-learning-keras-vgg19\n",
    "#block4_pool_features = model.predict(x)\n",
    "#plt.imshow(block4_pool_features[0][3])"
   ]
  },
  {
   "cell_type": "code",
   "execution_count": null,
   "metadata": {},
   "outputs": [],
   "source": []
  }
 ],
 "metadata": {
  "kernelspec": {
   "display_name": "Python 3",
   "language": "python",
   "name": "python3"
  },
  "language_info": {
   "codemirror_mode": {
    "name": "ipython",
    "version": 3
   },
   "file_extension": ".py",
   "mimetype": "text/x-python",
   "name": "python",
   "nbconvert_exporter": "python",
   "pygments_lexer": "ipython3",
   "version": "3.6.3"
  }
 },
 "nbformat": 4,
 "nbformat_minor": 2
}
