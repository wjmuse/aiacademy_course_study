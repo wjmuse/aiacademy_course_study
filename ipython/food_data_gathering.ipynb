{
 "cells": [
  {
   "cell_type": "markdown",
   "metadata": {},
   "source": [
    "## 抓取食物ai所需相關資料"
   ]
  },
  {
   "cell_type": "markdown",
   "metadata": {},
   "source": [
    "### walkerland 網站結構\n",
    "\n",
    "* https://www.walkerland.com.tw/search/foodpoi/?key_word=empty&category=&layer=&show=1&city=2&area=1\n",
    "    * key_word: 店家關鍵字\n",
    "    * category\n",
    "    * layer\n",
    "    * show=1\n",
    "    * city：城市 (台北市: 2, 新北市: 3)\n",
    "    * area=1 行政區 ({'中正區':1, '大同區':2,'中山區':3,'松山區':4,'大安區':5,'萬華區':6, '信義區':7,'士林區':8,'北投區':9,'內湖區':10,'南港區':11,'文山區':12})"
   ]
  },
  {
   "cell_type": "code",
   "execution_count": null,
   "metadata": {},
   "outputs": [],
   "source": []
  },
  {
   "cell_type": "code",
   "execution_count": null,
   "metadata": {},
   "outputs": [],
   "source": []
  }
 ],
 "metadata": {
  "kernelspec": {
   "display_name": "wayne_kernel",
   "language": "python",
   "name": "wayne_kernel"
  },
  "language_info": {
   "codemirror_mode": {
    "name": "ipython",
    "version": 3
   },
   "file_extension": ".py",
   "mimetype": "text/x-python",
   "name": "python",
   "nbconvert_exporter": "python",
   "pygments_lexer": "ipython3",
   "version": "3.6.3"
  }
 },
 "nbformat": 4,
 "nbformat_minor": 2
}
