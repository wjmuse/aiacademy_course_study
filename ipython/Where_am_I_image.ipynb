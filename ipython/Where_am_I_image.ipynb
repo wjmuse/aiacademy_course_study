{
 "cells": [
  {
   "cell_type": "code",
   "execution_count": 1,
   "metadata": {},
   "outputs": [
    {
     "name": "stderr",
     "output_type": "stream",
     "text": [
      "Using TensorFlow backend.\n"
     ]
    }
   ],
   "source": [
    "from __future__ import print_function\n",
    "%matplotlib inline\n",
    "\n",
    "import warnings\n",
    "warnings.filterwarnings('ignore')\n",
    "\n",
    "from sklearn.model_selection import train_test_split,GridSearchCV\n",
    "from sklearn.metrics import confusion_matrix\n",
    "from sklearn.utils import shuffle\n",
    "import pandas as pd\n",
    "import numpy as np\n",
    "from collections import Counter, OrderedDict\n",
    "\n",
    "from PIL import Image as PImage\n",
    "from os import listdir\n",
    "from pickle import dump\n",
    "import matplotlib.pyplot as plt\n",
    "import PIL, cv2, os, json, glob, h5py, keras, csv\n",
    "from IPython.display import SVG\n",
    "\n",
    "import tensorflow as tf\n",
    "from keras.datasets import mnist\n",
    "from keras.models import Sequential, load_model\n",
    "from keras.layers import Dense, Dropout, Flatten, Conv2D, MaxPooling2D\n",
    "from keras import backend as K\n",
    "from keras.utils import to_categorical\n",
    "from keras.backend.tensorflow_backend import set_session\n",
    "from keras.callbacks import TensorBoard\n",
    "from keras.applications.vgg16 import preprocess_input\n",
    "from keras.utils.vis_utils import plot_model, model_to_dot\n",
    "\n",
    "#import seaborn as sns"
   ]
  },
  {
   "cell_type": "code",
   "execution_count": 2,
   "metadata": {},
   "outputs": [
    {
     "name": "stdout",
     "output_type": "stream",
     "text": [
      "Name: tensorflow\r\n",
      "Version: 1.8.0\r\n",
      "Summary: TensorFlow helps the tensors flow\r\n",
      "Home-page: https://www.tensorflow.org/\r\n",
      "Author: Google Inc.\r\n",
      "Author-email: opensource@google.com\r\n",
      "License: Apache 2.0\r\n",
      "Location: /home/wayne/anaconda3/lib/python3.6/site-packages\r\n",
      "Requires: six, protobuf, grpcio, absl-py, termcolor, wheel, astor, numpy, gast, tensorboard\r\n",
      "Required-by: \r\n"
     ]
    }
   ],
   "source": [
    "!pip show tensorflow"
   ]
  },
  {
   "cell_type": "code",
   "execution_count": 3,
   "metadata": {},
   "outputs": [],
   "source": [
    "train_path = '../data/aia-picture-classification1/train'\n",
    "test_path = '../data/aia-picture-classification1/test'\n",
    "model_path = '../data/aia-picture-classification1/model'"
   ]
  },
  {
   "cell_type": "code",
   "execution_count": 4,
   "metadata": {},
   "outputs": [],
   "source": [
    "import tensorflow as tf"
   ]
  },
  {
   "cell_type": "code",
   "execution_count": 5,
   "metadata": {},
   "outputs": [
    {
     "name": "stdout",
     "output_type": "stream",
     "text": [
      "[name: \"/device:CPU:0\"\n",
      "device_type: \"CPU\"\n",
      "memory_limit: 268435456\n",
      "locality {\n",
      "}\n",
      "incarnation: 18121502417541566786\n",
      ", name: \"/device:GPU:0\"\n",
      "device_type: \"GPU\"\n",
      "memory_limit: 15870492672\n",
      "locality {\n",
      "  bus_id: 1\n",
      "  links {\n",
      "  }\n",
      "}\n",
      "incarnation: 3258721779488506173\n",
      "physical_device_desc: \"device: 0, name: Tesla P100-PCIE-16GB, pci bus id: 0000:00:04.0, compute capability: 6.0\"\n",
      "]\n"
     ]
    }
   ],
   "source": [
    "from tensorflow.python.client import device_lib\n",
    "print(device_lib.list_local_devices())"
   ]
  },
  {
   "cell_type": "code",
   "execution_count": 6,
   "metadata": {},
   "outputs": [
    {
     "data": {
      "text/plain": [
       "['bedroom',\n",
       " 'CALsuburb',\n",
       " 'coast',\n",
       " 'forest',\n",
       " 'highway',\n",
       " 'industrial',\n",
       " 'insidecity',\n",
       " 'kitchen',\n",
       " 'livingroom',\n",
       " 'mountain',\n",
       " 'opencountry',\n",
       " 'PARoffice',\n",
       " 'store',\n",
       " 'street',\n",
       " 'tallbuilding']"
      ]
     },
     "execution_count": 6,
     "metadata": {},
     "output_type": "execute_result"
    }
   ],
   "source": [
    "label_list = !ls {train_path}\n",
    "label_list"
   ]
  },
  {
   "cell_type": "code",
   "execution_count": 7,
   "metadata": {},
   "outputs": [],
   "source": [
    "mtype_dict = {}\n",
    "mtype_list = [None] * len(label_list)\n",
    "with open('../data/aia-picture-classification1/target_to_number.txt', newline='') as csvfile:\n",
    "    _dict = csv.DictReader(csvfile)\n",
    "    for idx, row in enumerate(_dict):\n",
    "        mtype_dict[row['type'].strip()] = int(row[' index'].strip())\n",
    "        mtype_list[int(row[' index'].strip())] = row['type'].strip()"
   ]
  },
  {
   "cell_type": "code",
   "execution_count": 8,
   "metadata": {},
   "outputs": [
    {
     "data": {
      "text/plain": [
       "['kitchen',\n",
       " 'street',\n",
       " 'industrial',\n",
       " 'insidecity',\n",
       " 'forest',\n",
       " 'livingroom',\n",
       " 'opencountry',\n",
       " 'PARoffice',\n",
       " 'mountain',\n",
       " 'CALsuburb',\n",
       " 'coast',\n",
       " 'store',\n",
       " 'bedroom',\n",
       " 'tallbuilding',\n",
       " 'highway']"
      ]
     },
     "execution_count": 8,
     "metadata": {},
     "output_type": "execute_result"
    }
   ],
   "source": [
    "mtype_list"
   ]
  },
  {
   "cell_type": "code",
   "execution_count": 9,
   "metadata": {},
   "outputs": [],
   "source": [
    "from keras.layers import *\n",
    "from keras.optimizers import *\n",
    "from keras.applications import *\n",
    "\n",
    "from keras.preprocessing.image import img_to_array, load_img\n",
    "from keras.models import Model\n",
    "from keras.layers import Input, Dense, Flatten, Conv2D, Dropout, BatchNormalization\n",
    "from keras import regularizers\n",
    "from keras.optimizers import Adam\n",
    "from keras.losses import categorical_crossentropy\n",
    "from keras.preprocessing import image\n",
    "from keras.callbacks import ModelCheckpoint, EarlyStopping, CSVLogger\n",
    "\n",
    "from keras.applications.resnet50 import preprocess_input, decode_predictions\n",
    "#from keras.applications.xception import Xception, preprocess_input"
   ]
  },
  {
   "cell_type": "code",
   "execution_count": 10,
   "metadata": {},
   "outputs": [],
   "source": [
    "img_width , img_height = 299, 299  # change based on the shape/structure of your images\n",
    "nb_classes = len(mtype_dict)\n",
    "batch_size = 32\n",
    "nb_epoch = 100\n",
    "based_model_last_block_layer_number = 126  # value is based on based model selected."
   ]
  },
  {
   "cell_type": "code",
   "execution_count": 11,
   "metadata": {},
   "outputs": [
    {
     "name": "stdout",
     "output_type": "stream",
     "text": [
      "__________________________________________________________________________________________________\n",
      "Layer (type)                    Output Shape         Param #     Connected to                     \n",
      "==================================================================================================\n",
      "input_1 (InputLayer)            (None, 299, 299, 3)  0                                            \n",
      "__________________________________________________________________________________________________\n",
      "block1_conv1 (Conv2D)           (None, 149, 149, 32) 864         input_1[0][0]                    \n",
      "__________________________________________________________________________________________________\n",
      "block1_conv1_bn (BatchNormaliza (None, 149, 149, 32) 128         block1_conv1[0][0]               \n",
      "__________________________________________________________________________________________________\n",
      "block1_conv1_act (Activation)   (None, 149, 149, 32) 0           block1_conv1_bn[0][0]            \n",
      "__________________________________________________________________________________________________\n",
      "block1_conv2 (Conv2D)           (None, 147, 147, 64) 18432       block1_conv1_act[0][0]           \n",
      "__________________________________________________________________________________________________\n",
      "block1_conv2_bn (BatchNormaliza (None, 147, 147, 64) 256         block1_conv2[0][0]               \n",
      "__________________________________________________________________________________________________\n",
      "block1_conv2_act (Activation)   (None, 147, 147, 64) 0           block1_conv2_bn[0][0]            \n",
      "__________________________________________________________________________________________________\n",
      "block2_sepconv1 (SeparableConv2 (None, 147, 147, 128 8768        block1_conv2_act[0][0]           \n",
      "__________________________________________________________________________________________________\n",
      "block2_sepconv1_bn (BatchNormal (None, 147, 147, 128 512         block2_sepconv1[0][0]            \n",
      "__________________________________________________________________________________________________\n",
      "block2_sepconv2_act (Activation (None, 147, 147, 128 0           block2_sepconv1_bn[0][0]         \n",
      "__________________________________________________________________________________________________\n",
      "block2_sepconv2 (SeparableConv2 (None, 147, 147, 128 17536       block2_sepconv2_act[0][0]        \n",
      "__________________________________________________________________________________________________\n",
      "block2_sepconv2_bn (BatchNormal (None, 147, 147, 128 512         block2_sepconv2[0][0]            \n",
      "__________________________________________________________________________________________________\n",
      "conv2d_1 (Conv2D)               (None, 74, 74, 128)  8192        block1_conv2_act[0][0]           \n",
      "__________________________________________________________________________________________________\n",
      "block2_pool (MaxPooling2D)      (None, 74, 74, 128)  0           block2_sepconv2_bn[0][0]         \n",
      "__________________________________________________________________________________________________\n",
      "batch_normalization_1 (BatchNor (None, 74, 74, 128)  512         conv2d_1[0][0]                   \n",
      "__________________________________________________________________________________________________\n",
      "add_1 (Add)                     (None, 74, 74, 128)  0           block2_pool[0][0]                \n",
      "                                                                 batch_normalization_1[0][0]      \n",
      "__________________________________________________________________________________________________\n",
      "block3_sepconv1_act (Activation (None, 74, 74, 128)  0           add_1[0][0]                      \n",
      "__________________________________________________________________________________________________\n",
      "block3_sepconv1 (SeparableConv2 (None, 74, 74, 256)  33920       block3_sepconv1_act[0][0]        \n",
      "__________________________________________________________________________________________________\n",
      "block3_sepconv1_bn (BatchNormal (None, 74, 74, 256)  1024        block3_sepconv1[0][0]            \n",
      "__________________________________________________________________________________________________\n",
      "block3_sepconv2_act (Activation (None, 74, 74, 256)  0           block3_sepconv1_bn[0][0]         \n",
      "__________________________________________________________________________________________________\n",
      "block3_sepconv2 (SeparableConv2 (None, 74, 74, 256)  67840       block3_sepconv2_act[0][0]        \n",
      "__________________________________________________________________________________________________\n",
      "block3_sepconv2_bn (BatchNormal (None, 74, 74, 256)  1024        block3_sepconv2[0][0]            \n",
      "__________________________________________________________________________________________________\n",
      "conv2d_2 (Conv2D)               (None, 37, 37, 256)  32768       add_1[0][0]                      \n",
      "__________________________________________________________________________________________________\n",
      "block3_pool (MaxPooling2D)      (None, 37, 37, 256)  0           block3_sepconv2_bn[0][0]         \n",
      "__________________________________________________________________________________________________\n",
      "batch_normalization_2 (BatchNor (None, 37, 37, 256)  1024        conv2d_2[0][0]                   \n",
      "__________________________________________________________________________________________________\n",
      "add_2 (Add)                     (None, 37, 37, 256)  0           block3_pool[0][0]                \n",
      "                                                                 batch_normalization_2[0][0]      \n",
      "__________________________________________________________________________________________________\n",
      "block4_sepconv1_act (Activation (None, 37, 37, 256)  0           add_2[0][0]                      \n",
      "__________________________________________________________________________________________________\n",
      "block4_sepconv1 (SeparableConv2 (None, 37, 37, 728)  188672      block4_sepconv1_act[0][0]        \n",
      "__________________________________________________________________________________________________\n",
      "block4_sepconv1_bn (BatchNormal (None, 37, 37, 728)  2912        block4_sepconv1[0][0]            \n",
      "__________________________________________________________________________________________________\n",
      "block4_sepconv2_act (Activation (None, 37, 37, 728)  0           block4_sepconv1_bn[0][0]         \n",
      "__________________________________________________________________________________________________\n",
      "block4_sepconv2 (SeparableConv2 (None, 37, 37, 728)  536536      block4_sepconv2_act[0][0]        \n",
      "__________________________________________________________________________________________________\n",
      "block4_sepconv2_bn (BatchNormal (None, 37, 37, 728)  2912        block4_sepconv2[0][0]            \n",
      "__________________________________________________________________________________________________\n",
      "conv2d_3 (Conv2D)               (None, 19, 19, 728)  186368      add_2[0][0]                      \n",
      "__________________________________________________________________________________________________\n",
      "block4_pool (MaxPooling2D)      (None, 19, 19, 728)  0           block4_sepconv2_bn[0][0]         \n",
      "__________________________________________________________________________________________________\n",
      "batch_normalization_3 (BatchNor (None, 19, 19, 728)  2912        conv2d_3[0][0]                   \n",
      "__________________________________________________________________________________________________\n",
      "add_3 (Add)                     (None, 19, 19, 728)  0           block4_pool[0][0]                \n",
      "                                                                 batch_normalization_3[0][0]      \n",
      "__________________________________________________________________________________________________\n",
      "block5_sepconv1_act (Activation (None, 19, 19, 728)  0           add_3[0][0]                      \n",
      "__________________________________________________________________________________________________\n",
      "block5_sepconv1 (SeparableConv2 (None, 19, 19, 728)  536536      block5_sepconv1_act[0][0]        \n",
      "__________________________________________________________________________________________________\n",
      "block5_sepconv1_bn (BatchNormal (None, 19, 19, 728)  2912        block5_sepconv1[0][0]            \n",
      "__________________________________________________________________________________________________\n",
      "block5_sepconv2_act (Activation (None, 19, 19, 728)  0           block5_sepconv1_bn[0][0]         \n",
      "__________________________________________________________________________________________________\n",
      "block5_sepconv2 (SeparableConv2 (None, 19, 19, 728)  536536      block5_sepconv2_act[0][0]        \n",
      "__________________________________________________________________________________________________\n",
      "block5_sepconv2_bn (BatchNormal (None, 19, 19, 728)  2912        block5_sepconv2[0][0]            \n",
      "__________________________________________________________________________________________________\n",
      "block5_sepconv3_act (Activation (None, 19, 19, 728)  0           block5_sepconv2_bn[0][0]         \n",
      "__________________________________________________________________________________________________\n",
      "block5_sepconv3 (SeparableConv2 (None, 19, 19, 728)  536536      block5_sepconv3_act[0][0]        \n",
      "__________________________________________________________________________________________________\n",
      "block5_sepconv3_bn (BatchNormal (None, 19, 19, 728)  2912        block5_sepconv3[0][0]            \n",
      "__________________________________________________________________________________________________\n",
      "add_4 (Add)                     (None, 19, 19, 728)  0           block5_sepconv3_bn[0][0]         \n",
      "                                                                 add_3[0][0]                      \n",
      "__________________________________________________________________________________________________\n",
      "block6_sepconv1_act (Activation (None, 19, 19, 728)  0           add_4[0][0]                      \n",
      "__________________________________________________________________________________________________\n",
      "block6_sepconv1 (SeparableConv2 (None, 19, 19, 728)  536536      block6_sepconv1_act[0][0]        \n",
      "__________________________________________________________________________________________________\n",
      "block6_sepconv1_bn (BatchNormal (None, 19, 19, 728)  2912        block6_sepconv1[0][0]            \n",
      "__________________________________________________________________________________________________\n",
      "block6_sepconv2_act (Activation (None, 19, 19, 728)  0           block6_sepconv1_bn[0][0]         \n",
      "__________________________________________________________________________________________________\n",
      "block6_sepconv2 (SeparableConv2 (None, 19, 19, 728)  536536      block6_sepconv2_act[0][0]        \n",
      "__________________________________________________________________________________________________\n",
      "block6_sepconv2_bn (BatchNormal (None, 19, 19, 728)  2912        block6_sepconv2[0][0]            \n",
      "__________________________________________________________________________________________________\n",
      "block6_sepconv3_act (Activation (None, 19, 19, 728)  0           block6_sepconv2_bn[0][0]         \n",
      "__________________________________________________________________________________________________\n",
      "block6_sepconv3 (SeparableConv2 (None, 19, 19, 728)  536536      block6_sepconv3_act[0][0]        \n",
      "__________________________________________________________________________________________________\n",
      "block6_sepconv3_bn (BatchNormal (None, 19, 19, 728)  2912        block6_sepconv3[0][0]            \n",
      "__________________________________________________________________________________________________\n",
      "add_5 (Add)                     (None, 19, 19, 728)  0           block6_sepconv3_bn[0][0]         \n",
      "                                                                 add_4[0][0]                      \n",
      "__________________________________________________________________________________________________\n",
      "block7_sepconv1_act (Activation (None, 19, 19, 728)  0           add_5[0][0]                      \n",
      "__________________________________________________________________________________________________\n",
      "block7_sepconv1 (SeparableConv2 (None, 19, 19, 728)  536536      block7_sepconv1_act[0][0]        \n",
      "__________________________________________________________________________________________________\n",
      "block7_sepconv1_bn (BatchNormal (None, 19, 19, 728)  2912        block7_sepconv1[0][0]            \n",
      "__________________________________________________________________________________________________\n",
      "block7_sepconv2_act (Activation (None, 19, 19, 728)  0           block7_sepconv1_bn[0][0]         \n",
      "__________________________________________________________________________________________________\n",
      "block7_sepconv2 (SeparableConv2 (None, 19, 19, 728)  536536      block7_sepconv2_act[0][0]        \n",
      "__________________________________________________________________________________________________\n",
      "block7_sepconv2_bn (BatchNormal (None, 19, 19, 728)  2912        block7_sepconv2[0][0]            \n",
      "__________________________________________________________________________________________________\n",
      "block7_sepconv3_act (Activation (None, 19, 19, 728)  0           block7_sepconv2_bn[0][0]         \n",
      "__________________________________________________________________________________________________\n",
      "block7_sepconv3 (SeparableConv2 (None, 19, 19, 728)  536536      block7_sepconv3_act[0][0]        \n",
      "__________________________________________________________________________________________________\n",
      "block7_sepconv3_bn (BatchNormal (None, 19, 19, 728)  2912        block7_sepconv3[0][0]            \n",
      "__________________________________________________________________________________________________\n",
      "add_6 (Add)                     (None, 19, 19, 728)  0           block7_sepconv3_bn[0][0]         \n",
      "                                                                 add_5[0][0]                      \n",
      "__________________________________________________________________________________________________\n",
      "block8_sepconv1_act (Activation (None, 19, 19, 728)  0           add_6[0][0]                      \n",
      "__________________________________________________________________________________________________\n",
      "block8_sepconv1 (SeparableConv2 (None, 19, 19, 728)  536536      block8_sepconv1_act[0][0]        \n",
      "__________________________________________________________________________________________________\n",
      "block8_sepconv1_bn (BatchNormal (None, 19, 19, 728)  2912        block8_sepconv1[0][0]            \n",
      "__________________________________________________________________________________________________\n",
      "block8_sepconv2_act (Activation (None, 19, 19, 728)  0           block8_sepconv1_bn[0][0]         \n",
      "__________________________________________________________________________________________________\n",
      "block8_sepconv2 (SeparableConv2 (None, 19, 19, 728)  536536      block8_sepconv2_act[0][0]        \n",
      "__________________________________________________________________________________________________\n",
      "block8_sepconv2_bn (BatchNormal (None, 19, 19, 728)  2912        block8_sepconv2[0][0]            \n",
      "__________________________________________________________________________________________________\n",
      "block8_sepconv3_act (Activation (None, 19, 19, 728)  0           block8_sepconv2_bn[0][0]         \n",
      "__________________________________________________________________________________________________\n",
      "block8_sepconv3 (SeparableConv2 (None, 19, 19, 728)  536536      block8_sepconv3_act[0][0]        \n",
      "__________________________________________________________________________________________________\n",
      "block8_sepconv3_bn (BatchNormal (None, 19, 19, 728)  2912        block8_sepconv3[0][0]            \n",
      "__________________________________________________________________________________________________\n",
      "add_7 (Add)                     (None, 19, 19, 728)  0           block8_sepconv3_bn[0][0]         \n",
      "                                                                 add_6[0][0]                      \n",
      "__________________________________________________________________________________________________\n",
      "block9_sepconv1_act (Activation (None, 19, 19, 728)  0           add_7[0][0]                      \n",
      "__________________________________________________________________________________________________\n",
      "block9_sepconv1 (SeparableConv2 (None, 19, 19, 728)  536536      block9_sepconv1_act[0][0]        \n",
      "__________________________________________________________________________________________________\n",
      "block9_sepconv1_bn (BatchNormal (None, 19, 19, 728)  2912        block9_sepconv1[0][0]            \n",
      "__________________________________________________________________________________________________\n",
      "block9_sepconv2_act (Activation (None, 19, 19, 728)  0           block9_sepconv1_bn[0][0]         \n",
      "__________________________________________________________________________________________________\n",
      "block9_sepconv2 (SeparableConv2 (None, 19, 19, 728)  536536      block9_sepconv2_act[0][0]        \n",
      "__________________________________________________________________________________________________\n",
      "block9_sepconv2_bn (BatchNormal (None, 19, 19, 728)  2912        block9_sepconv2[0][0]            \n",
      "__________________________________________________________________________________________________\n",
      "block9_sepconv3_act (Activation (None, 19, 19, 728)  0           block9_sepconv2_bn[0][0]         \n",
      "__________________________________________________________________________________________________\n",
      "block9_sepconv3 (SeparableConv2 (None, 19, 19, 728)  536536      block9_sepconv3_act[0][0]        \n",
      "__________________________________________________________________________________________________\n",
      "block9_sepconv3_bn (BatchNormal (None, 19, 19, 728)  2912        block9_sepconv3[0][0]            \n",
      "__________________________________________________________________________________________________\n",
      "add_8 (Add)                     (None, 19, 19, 728)  0           block9_sepconv3_bn[0][0]         \n",
      "                                                                 add_7[0][0]                      \n",
      "__________________________________________________________________________________________________\n",
      "block10_sepconv1_act (Activatio (None, 19, 19, 728)  0           add_8[0][0]                      \n",
      "__________________________________________________________________________________________________\n",
      "block10_sepconv1 (SeparableConv (None, 19, 19, 728)  536536      block10_sepconv1_act[0][0]       \n",
      "__________________________________________________________________________________________________\n",
      "block10_sepconv1_bn (BatchNorma (None, 19, 19, 728)  2912        block10_sepconv1[0][0]           \n",
      "__________________________________________________________________________________________________\n",
      "block10_sepconv2_act (Activatio (None, 19, 19, 728)  0           block10_sepconv1_bn[0][0]        \n",
      "__________________________________________________________________________________________________\n",
      "block10_sepconv2 (SeparableConv (None, 19, 19, 728)  536536      block10_sepconv2_act[0][0]       \n",
      "__________________________________________________________________________________________________\n",
      "block10_sepconv2_bn (BatchNorma (None, 19, 19, 728)  2912        block10_sepconv2[0][0]           \n",
      "__________________________________________________________________________________________________\n",
      "block10_sepconv3_act (Activatio (None, 19, 19, 728)  0           block10_sepconv2_bn[0][0]        \n",
      "__________________________________________________________________________________________________\n",
      "block10_sepconv3 (SeparableConv (None, 19, 19, 728)  536536      block10_sepconv3_act[0][0]       \n",
      "__________________________________________________________________________________________________\n",
      "block10_sepconv3_bn (BatchNorma (None, 19, 19, 728)  2912        block10_sepconv3[0][0]           \n",
      "__________________________________________________________________________________________________\n",
      "add_9 (Add)                     (None, 19, 19, 728)  0           block10_sepconv3_bn[0][0]        \n",
      "                                                                 add_8[0][0]                      \n",
      "__________________________________________________________________________________________________\n",
      "block11_sepconv1_act (Activatio (None, 19, 19, 728)  0           add_9[0][0]                      \n",
      "__________________________________________________________________________________________________\n",
      "block11_sepconv1 (SeparableConv (None, 19, 19, 728)  536536      block11_sepconv1_act[0][0]       \n",
      "__________________________________________________________________________________________________\n",
      "block11_sepconv1_bn (BatchNorma (None, 19, 19, 728)  2912        block11_sepconv1[0][0]           \n",
      "__________________________________________________________________________________________________\n",
      "block11_sepconv2_act (Activatio (None, 19, 19, 728)  0           block11_sepconv1_bn[0][0]        \n",
      "__________________________________________________________________________________________________\n",
      "block11_sepconv2 (SeparableConv (None, 19, 19, 728)  536536      block11_sepconv2_act[0][0]       \n",
      "__________________________________________________________________________________________________\n",
      "block11_sepconv2_bn (BatchNorma (None, 19, 19, 728)  2912        block11_sepconv2[0][0]           \n",
      "__________________________________________________________________________________________________\n",
      "block11_sepconv3_act (Activatio (None, 19, 19, 728)  0           block11_sepconv2_bn[0][0]        \n",
      "__________________________________________________________________________________________________\n",
      "block11_sepconv3 (SeparableConv (None, 19, 19, 728)  536536      block11_sepconv3_act[0][0]       \n",
      "__________________________________________________________________________________________________\n",
      "block11_sepconv3_bn (BatchNorma (None, 19, 19, 728)  2912        block11_sepconv3[0][0]           \n",
      "__________________________________________________________________________________________________\n",
      "add_10 (Add)                    (None, 19, 19, 728)  0           block11_sepconv3_bn[0][0]        \n",
      "                                                                 add_9[0][0]                      \n",
      "__________________________________________________________________________________________________\n",
      "block12_sepconv1_act (Activatio (None, 19, 19, 728)  0           add_10[0][0]                     \n",
      "__________________________________________________________________________________________________\n",
      "block12_sepconv1 (SeparableConv (None, 19, 19, 728)  536536      block12_sepconv1_act[0][0]       \n",
      "__________________________________________________________________________________________________\n",
      "block12_sepconv1_bn (BatchNorma (None, 19, 19, 728)  2912        block12_sepconv1[0][0]           \n",
      "__________________________________________________________________________________________________\n",
      "block12_sepconv2_act (Activatio (None, 19, 19, 728)  0           block12_sepconv1_bn[0][0]        \n",
      "__________________________________________________________________________________________________\n",
      "block12_sepconv2 (SeparableConv (None, 19, 19, 728)  536536      block12_sepconv2_act[0][0]       \n",
      "__________________________________________________________________________________________________\n",
      "block12_sepconv2_bn (BatchNorma (None, 19, 19, 728)  2912        block12_sepconv2[0][0]           \n",
      "__________________________________________________________________________________________________\n",
      "block12_sepconv3_act (Activatio (None, 19, 19, 728)  0           block12_sepconv2_bn[0][0]        \n",
      "__________________________________________________________________________________________________\n",
      "block12_sepconv3 (SeparableConv (None, 19, 19, 728)  536536      block12_sepconv3_act[0][0]       \n",
      "__________________________________________________________________________________________________\n",
      "block12_sepconv3_bn (BatchNorma (None, 19, 19, 728)  2912        block12_sepconv3[0][0]           \n",
      "__________________________________________________________________________________________________\n",
      "add_11 (Add)                    (None, 19, 19, 728)  0           block12_sepconv3_bn[0][0]        \n",
      "                                                                 add_10[0][0]                     \n",
      "__________________________________________________________________________________________________\n",
      "block13_sepconv1_act (Activatio (None, 19, 19, 728)  0           add_11[0][0]                     \n",
      "__________________________________________________________________________________________________\n",
      "block13_sepconv1 (SeparableConv (None, 19, 19, 728)  536536      block13_sepconv1_act[0][0]       \n",
      "__________________________________________________________________________________________________\n",
      "block13_sepconv1_bn (BatchNorma (None, 19, 19, 728)  2912        block13_sepconv1[0][0]           \n",
      "__________________________________________________________________________________________________\n",
      "block13_sepconv2_act (Activatio (None, 19, 19, 728)  0           block13_sepconv1_bn[0][0]        \n",
      "__________________________________________________________________________________________________\n",
      "block13_sepconv2 (SeparableConv (None, 19, 19, 1024) 752024      block13_sepconv2_act[0][0]       \n",
      "__________________________________________________________________________________________________\n",
      "block13_sepconv2_bn (BatchNorma (None, 19, 19, 1024) 4096        block13_sepconv2[0][0]           \n",
      "__________________________________________________________________________________________________\n",
      "conv2d_4 (Conv2D)               (None, 10, 10, 1024) 745472      add_11[0][0]                     \n",
      "__________________________________________________________________________________________________\n",
      "block13_pool (MaxPooling2D)     (None, 10, 10, 1024) 0           block13_sepconv2_bn[0][0]        \n",
      "__________________________________________________________________________________________________\n",
      "batch_normalization_4 (BatchNor (None, 10, 10, 1024) 4096        conv2d_4[0][0]                   \n",
      "__________________________________________________________________________________________________\n",
      "add_12 (Add)                    (None, 10, 10, 1024) 0           block13_pool[0][0]               \n",
      "                                                                 batch_normalization_4[0][0]      \n",
      "__________________________________________________________________________________________________\n",
      "block14_sepconv1 (SeparableConv (None, 10, 10, 1536) 1582080     add_12[0][0]                     \n",
      "__________________________________________________________________________________________________\n",
      "block14_sepconv1_bn (BatchNorma (None, 10, 10, 1536) 6144        block14_sepconv1[0][0]           \n",
      "__________________________________________________________________________________________________\n",
      "block14_sepconv1_act (Activatio (None, 10, 10, 1536) 0           block14_sepconv1_bn[0][0]        \n",
      "__________________________________________________________________________________________________\n",
      "block14_sepconv2 (SeparableConv (None, 10, 10, 2048) 3159552     block14_sepconv1_act[0][0]       \n",
      "__________________________________________________________________________________________________\n",
      "block14_sepconv2_bn (BatchNorma (None, 10, 10, 2048) 8192        block14_sepconv2[0][0]           \n",
      "__________________________________________________________________________________________________\n",
      "block14_sepconv2_act (Activatio (None, 10, 10, 2048) 0           block14_sepconv2_bn[0][0]        \n",
      "__________________________________________________________________________________________________\n",
      "global_max_pooling2d_1 (GlobalM (None, 2048)         0           block14_sepconv2_act[0][0]       \n",
      "__________________________________________________________________________________________________\n",
      "dropout_1 (Dropout)             (None, 2048)         0           global_max_pooling2d_1[0][0]     \n",
      "__________________________________________________________________________________________________\n",
      "dense_1 (Dense)                 (None, 15)           30735       dropout_1[0][0]                  \n",
      "==================================================================================================\n",
      "Total params: 20,892,215\n",
      "Trainable params: 30,735\n",
      "Non-trainable params: 20,861,480\n",
      "__________________________________________________________________________________________________\n",
      "None\n"
     ]
    }
   ],
   "source": [
    "base_model = Xception(input_shape=(img_width, img_height, 3), weights='imagenet', include_top=False)\n",
    "\n",
    "for layer in base_model.layers:\n",
    "    layer.trainable = False\n",
    "\n",
    "    \n",
    "x = base_model.output\n",
    "x = GlobalMaxPooling2D()(x)\n",
    "x = Dropout(0.2)(x)\n",
    "output = Dense(nb_classes, activation='softmax')(x)    \n",
    "\n",
    "# add your top layer block to your base model\n",
    "model = Model(base_model.input, output)\n",
    "print(model.summary())"
   ]
  },
  {
   "cell_type": "code",
   "execution_count": 12,
   "metadata": {},
   "outputs": [
    {
     "data": {
      "text/plain": [
       "32"
      ]
     },
     "execution_count": 12,
     "metadata": {},
     "output_type": "execute_result"
    }
   ],
   "source": [
    "batch_size"
   ]
  },
  {
   "cell_type": "code",
   "execution_count": 13,
   "metadata": {},
   "outputs": [],
   "source": [
    "data_gen = image.ImageDataGenerator(rescale=1. / 255, \n",
    "                                    validation_split=0.1,\n",
    "                                    featurewise_center=True,\n",
    "                                    fill_mode=\"nearest\",\n",
    "                                    preprocessing_function=preprocess_input)"
   ]
  },
  {
   "cell_type": "code",
   "execution_count": 14,
   "metadata": {},
   "outputs": [
    {
     "name": "stdout",
     "output_type": "stream",
     "text": [
      "Found 293 images belonging to 15 classes.\n"
     ]
    }
   ],
   "source": [
    "validation_generator = data_gen.flow_from_directory(train_path,\n",
    "                                                    target_size=(img_width, img_height),\n",
    "                                                    batch_size=batch_size,\n",
    "                                                    class_mode='categorical',\n",
    "                                                    shuffle=True, seed=13, subset=\"validation\")"
   ]
  },
  {
   "cell_type": "code",
   "execution_count": 15,
   "metadata": {},
   "outputs": [],
   "source": [
    "data_gen.featurewise_center=True\n",
    "data_gen.rotation_range=20\n",
    "data_gen.width_shift_range=0.2\n",
    "data_gen.height_shift_range=0.2\n",
    "data_gen.shear_range=0.2\n",
    "data_gen.zoom_range=[0.6, 1.4]\n",
    "data_gen.horizontal_flip=True"
   ]
  },
  {
   "cell_type": "code",
   "execution_count": 16,
   "metadata": {},
   "outputs": [
    {
     "name": "stdout",
     "output_type": "stream",
     "text": [
      "Found 2692 images belonging to 15 classes.\n"
     ]
    }
   ],
   "source": [
    "train_generator = data_gen.flow_from_directory(train_path,\n",
    "                                                    target_size=(img_width, img_height),\n",
    "                                                    batch_size=batch_size,\n",
    "                                                    class_mode='categorical',\n",
    "                                                    shuffle=True, seed=13, subset=\"training\")"
   ]
  },
  {
   "cell_type": "code",
   "execution_count": 31,
   "metadata": {},
   "outputs": [
    {
     "name": "stdout",
     "output_type": "stream",
     "text": [
      "Found 1500 images belonging to 1 classes.\n"
     ]
    }
   ],
   "source": [
    "test_datagen = image.ImageDataGenerator(rescale=1./255, featurewise_center=True, fill_mode=\"nearest\",\n",
    "                                       preprocessing_function=preprocess_input)\n",
    "\n",
    "test_generator =  test_datagen.flow_from_directory(test_path, \n",
    "                                     target_size=(img_width, img_height), \n",
    "                                     batch_size=batch_size,\n",
    "                                     shuffle=False,\n",
    "                                     class_mode=None)"
   ]
  },
  {
   "cell_type": "code",
   "execution_count": 17,
   "metadata": {},
   "outputs": [],
   "source": [
    "model.compile(optimizer='nadam',\n",
    "              loss=categorical_crossentropy, metrics=['accuracy',])"
   ]
  },
  {
   "cell_type": "code",
   "execution_count": 18,
   "metadata": {},
   "outputs": [],
   "source": [
    "top_weights_path = os.path.join(model_path, 'top_model_weights_7.h5')\n",
    "csv_path = os.path.join(model_path, 'top_model_csv_7.h5')\n",
    "callbacks_list = [\n",
    "    ModelCheckpoint(top_weights_path, monitor='val_acc', verbose=1, save_best_only=True),\n",
    "    EarlyStopping(monitor='loss', patience=10, verbose=0),\n",
    "    CSVLogger(csv_path, separator=',', append=False)\n",
    "]\n",
    "#tensor_board = callbacks.TensorBoard()"
   ]
  },
  {
   "cell_type": "code",
   "execution_count": 19,
   "metadata": {},
   "outputs": [
    {
     "name": "stdout",
     "output_type": "stream",
     "text": [
      "There are 2692 training data.\n"
     ]
    }
   ],
   "source": [
    "filenames = train_generator.filenames\n",
    "nb_samples = len(filenames)\n",
    "\n",
    "print('There are {0} training data.'.format(train_generator.n))"
   ]
  },
  {
   "cell_type": "code",
   "execution_count": 20,
   "metadata": {},
   "outputs": [
    {
     "data": {
      "text/plain": [
       "20"
      ]
     },
     "execution_count": 20,
     "metadata": {},
     "output_type": "execute_result"
    }
   ],
   "source": [
    "nb_epoch // 5"
   ]
  },
  {
   "cell_type": "code",
   "execution_count": 21,
   "metadata": {
    "scrolled": false
   },
   "outputs": [
    {
     "name": "stdout",
     "output_type": "stream",
     "text": [
      "Epoch 1/20\n",
      "85/85 [==============================] - 63s 737ms/step - loss: 3.0400 - acc: 0.3309 - val_loss: 5.6180 - val_acc: 0.0922\n",
      "\n",
      "Epoch 00001: val_acc improved from -inf to 0.09215, saving model to ../data/aia-picture-classification1/model/top_model_weights_7.h5\n",
      "Epoch 2/20\n",
      "85/85 [==============================] - 56s 654ms/step - loss: 1.6390 - acc: 0.5964 - val_loss: 6.7152 - val_acc: 0.0887\n",
      "\n",
      "Epoch 00002: val_acc did not improve from 0.09215\n",
      "Epoch 3/20\n",
      "21/85 [======>.......................] - ETA: 25s - loss: 1.3873 - acc: 0.6161"
     ]
    },
    {
     "name": "stderr",
     "output_type": "stream",
     "text": [
      "Process ForkPoolWorker-34:\n",
      "Process ForkPoolWorker-38:\n",
      "Process ForkPoolWorker-43:\n",
      "KeyboardInterrupt\n",
      "Process ForkPoolWorker-33:\n",
      "Traceback (most recent call last):\n",
      "  File \"/home/wayne/anaconda3/lib/python3.6/multiprocessing/process.py\", line 258, in _bootstrap\n",
      "    self.run()\n",
      "Traceback (most recent call last):\n",
      "Traceback (most recent call last):\n",
      "  File \"/home/wayne/anaconda3/lib/python3.6/multiprocessing/process.py\", line 93, in run\n",
      "    self._target(*self._args, **self._kwargs)\n",
      "Traceback (most recent call last):\n",
      "  File \"/home/wayne/anaconda3/lib/python3.6/multiprocessing/process.py\", line 258, in _bootstrap\n",
      "    self.run()\n",
      "  File \"/home/wayne/anaconda3/lib/python3.6/multiprocessing/process.py\", line 93, in run\n",
      "    self._target(*self._args, **self._kwargs)\n",
      "  File \"/home/wayne/anaconda3/lib/python3.6/multiprocessing/pool.py\", line 119, in worker\n",
      "    result = (True, func(*args, **kwds))\n",
      "Process ForkPoolWorker-44:\n",
      "  File \"/home/wayne/anaconda3/lib/python3.6/multiprocessing/process.py\", line 258, in _bootstrap\n",
      "    self.run()\n",
      "  File \"/home/wayne/anaconda3/lib/python3.6/site-packages/keras/utils/data_utils.py\", line 401, in get_index\n",
      "    return _SHARED_SEQUENCES[uid][i]\n",
      "  File \"/home/wayne/anaconda3/lib/python3.6/site-packages/keras_preprocessing/image.py\", line 1263, in __getitem__\n",
      "    return self._get_batches_of_transformed_samples(index_array)\n",
      "  File \"/home/wayne/anaconda3/lib/python3.6/multiprocessing/process.py\", line 258, in _bootstrap\n",
      "    self.run()\n",
      "  File \"/home/wayne/anaconda3/lib/python3.6/site-packages/keras_preprocessing/image.py\", line 1738, in _get_batches_of_transformed_samples\n",
      "    x = self.image_data_generator.standardize(x)\n",
      "Process ForkPoolWorker-37:\n",
      "Traceback (most recent call last):\n",
      "  File \"/home/wayne/anaconda3/lib/python3.6/multiprocessing/process.py\", line 93, in run\n",
      "    self._target(*self._args, **self._kwargs)\n",
      "Process ForkPoolWorker-35:\n",
      "  File \"/home/wayne/anaconda3/lib/python3.6/multiprocessing/process.py\", line 93, in run\n",
      "    self._target(*self._args, **self._kwargs)\n",
      "  File \"/home/wayne/anaconda3/lib/python3.6/multiprocessing/pool.py\", line 119, in worker\n",
      "    result = (True, func(*args, **kwds))\n",
      "Traceback (most recent call last):\n",
      "  File \"/home/wayne/anaconda3/lib/python3.6/site-packages/keras_preprocessing/image.py\", line 947, in standardize\n",
      "    x = self.preprocessing_function(x)\n",
      "  File \"/home/wayne/anaconda3/lib/python3.6/multiprocessing/process.py\", line 258, in _bootstrap\n",
      "    self.run()\n",
      "  File \"/home/wayne/anaconda3/lib/python3.6/multiprocessing/pool.py\", line 119, in worker\n",
      "    result = (True, func(*args, **kwds))\n",
      "  File \"/home/wayne/anaconda3/lib/python3.6/site-packages/keras_applications/xception.py\", line 338, in preprocess_input\n",
      "    return imagenet_utils.preprocess_input(x, mode='tf')\n",
      "  File \"/home/wayne/anaconda3/lib/python3.6/site-packages/keras_applications/imagenet_utils.py\", line 189, in preprocess_input\n",
      "    return _preprocess_numpy_input(x, data_format=data_format, mode=mode)\n",
      "  File \"/home/wayne/anaconda3/lib/python3.6/site-packages/keras_applications/imagenet_utils.py\", line 49, in _preprocess_numpy_input\n",
      "    x -= 1.\n",
      "  File \"/home/wayne/anaconda3/lib/python3.6/site-packages/keras/utils/data_utils.py\", line 401, in get_index\n",
      "    return _SHARED_SEQUENCES[uid][i]\n",
      "  File \"/home/wayne/anaconda3/lib/python3.6/site-packages/keras_preprocessing/image.py\", line 1263, in __getitem__\n",
      "    return self._get_batches_of_transformed_samples(index_array)\n",
      "Traceback (most recent call last):\n",
      "  File \"/home/wayne/anaconda3/lib/python3.6/site-packages/keras_preprocessing/image.py\", line 1737, in _get_batches_of_transformed_samples\n",
      "    x = self.image_data_generator.apply_transform(x, params)\n",
      "  File \"/home/wayne/anaconda3/lib/python3.6/site-packages/keras_preprocessing/image.py\", line 1114, in apply_transform\n",
      "    fill_mode=self.fill_mode, cval=self.cval)\n",
      "  File \"/home/wayne/anaconda3/lib/python3.6/multiprocessing/pool.py\", line 119, in worker\n",
      "    result = (True, func(*args, **kwds))\n",
      "  File \"/home/wayne/anaconda3/lib/python3.6/site-packages/keras/utils/data_utils.py\", line 401, in get_index\n",
      "    return _SHARED_SEQUENCES[uid][i]\n",
      "  File \"/home/wayne/anaconda3/lib/python3.6/site-packages/keras_preprocessing/image.py\", line 325, in apply_affine_transform\n",
      "    cval=cval) for x_channel in x]\n",
      "  File \"/home/wayne/anaconda3/lib/python3.6/multiprocessing/process.py\", line 258, in _bootstrap\n",
      "    self.run()\n",
      "  File \"/home/wayne/anaconda3/lib/python3.6/multiprocessing/process.py\", line 93, in run\n",
      "    self._target(*self._args, **self._kwargs)\n",
      "  File \"/home/wayne/anaconda3/lib/python3.6/multiprocessing/process.py\", line 258, in _bootstrap\n",
      "    self.run()\n",
      "  File \"/home/wayne/anaconda3/lib/python3.6/site-packages/keras_preprocessing/image.py\", line 1263, in __getitem__\n",
      "    return self._get_batches_of_transformed_samples(index_array)\n",
      "  File \"/home/wayne/anaconda3/lib/python3.6/multiprocessing/process.py\", line 93, in run\n",
      "    self._target(*self._args, **self._kwargs)\n",
      "  File \"/home/wayne/anaconda3/lib/python3.6/site-packages/keras/utils/data_utils.py\", line 401, in get_index\n",
      "    return _SHARED_SEQUENCES[uid][i]\n",
      "  File \"/home/wayne/anaconda3/lib/python3.6/multiprocessing/pool.py\", line 119, in worker\n",
      "    result = (True, func(*args, **kwds))\n",
      "  File \"/home/wayne/anaconda3/lib/python3.6/site-packages/keras_preprocessing/image.py\", line 1263, in __getitem__\n",
      "    return self._get_batches_of_transformed_samples(index_array)\n",
      "  File \"/home/wayne/anaconda3/lib/python3.6/multiprocessing/process.py\", line 93, in run\n",
      "    self._target(*self._args, **self._kwargs)\n",
      "  File \"/home/wayne/anaconda3/lib/python3.6/multiprocessing/pool.py\", line 119, in worker\n",
      "    result = (True, func(*args, **kwds))\n",
      "  File \"/home/wayne/anaconda3/lib/python3.6/site-packages/keras/utils/data_utils.py\", line 401, in get_index\n",
      "    return _SHARED_SEQUENCES[uid][i]\n",
      "  File \"/home/wayne/anaconda3/lib/python3.6/multiprocessing/pool.py\", line 119, in worker\n",
      "    result = (True, func(*args, **kwds))\n",
      "  File \"/home/wayne/anaconda3/lib/python3.6/site-packages/keras_preprocessing/image.py\", line 949, in standardize\n",
      "    x *= self.rescale\n",
      "  File \"/home/wayne/anaconda3/lib/python3.6/site-packages/keras_preprocessing/image.py\", line 1738, in _get_batches_of_transformed_samples\n",
      "    x = self.image_data_generator.standardize(x)\n",
      "  File \"/home/wayne/anaconda3/lib/python3.6/site-packages/scipy/ndimage/interpolation.py\", line 458, in affine_transform\n",
      "    output, order, mode, cval, None, None)\n",
      "  File \"/home/wayne/anaconda3/lib/python3.6/site-packages/keras/utils/data_utils.py\", line 401, in get_index\n",
      "    return _SHARED_SEQUENCES[uid][i]\n",
      "  File \"/home/wayne/anaconda3/lib/python3.6/site-packages/keras_preprocessing/image.py\", line 325, in <listcomp>\n",
      "    cval=cval) for x_channel in x]\n",
      "  File \"/home/wayne/anaconda3/lib/python3.6/site-packages/keras_preprocessing/image.py\", line 1263, in __getitem__\n",
      "    return self._get_batches_of_transformed_samples(index_array)\n",
      "  File \"/home/wayne/anaconda3/lib/python3.6/site-packages/keras_preprocessing/image.py\", line 1263, in __getitem__\n",
      "    return self._get_batches_of_transformed_samples(index_array)\n",
      "  File \"/home/wayne/anaconda3/lib/python3.6/site-packages/keras_preprocessing/image.py\", line 1738, in _get_batches_of_transformed_samples\n",
      "    x = self.image_data_generator.standardize(x)\n",
      "  File \"/home/wayne/anaconda3/lib/python3.6/site-packages/keras/utils/data_utils.py\", line 401, in get_index\n",
      "    return _SHARED_SEQUENCES[uid][i]\n",
      "  File \"/home/wayne/anaconda3/lib/python3.6/site-packages/keras_preprocessing/image.py\", line 1738, in _get_batches_of_transformed_samples\n",
      "    x = self.image_data_generator.standardize(x)\n",
      "  File \"/home/wayne/anaconda3/lib/python3.6/site-packages/keras_preprocessing/image.py\", line 1263, in __getitem__\n",
      "    return self._get_batches_of_transformed_samples(index_array)\n",
      "  File \"/home/wayne/anaconda3/lib/python3.6/site-packages/keras_preprocessing/image.py\", line 947, in standardize\n",
      "    x = self.preprocessing_function(x)\n",
      "  File \"/home/wayne/anaconda3/lib/python3.6/site-packages/keras_preprocessing/image.py\", line 1737, in _get_batches_of_transformed_samples\n",
      "    x = self.image_data_generator.apply_transform(x, params)\n",
      "KeyboardInterrupt\n",
      "KeyboardInterrupt\n",
      "  File \"/home/wayne/anaconda3/lib/python3.6/site-packages/keras_preprocessing/image.py\", line 949, in standardize\n",
      "    x *= self.rescale\n"
     ]
    },
    {
     "name": "stderr",
     "output_type": "stream",
     "text": [
      "  File \"/home/wayne/anaconda3/lib/python3.6/site-packages/keras_preprocessing/image.py\", line 1737, in _get_batches_of_transformed_samples\n",
      "    x = self.image_data_generator.apply_transform(x, params)\n",
      "KeyboardInterrupt\n",
      "  File \"/home/wayne/anaconda3/lib/python3.6/site-packages/keras_preprocessing/image.py\", line 1114, in apply_transform\n",
      "    fill_mode=self.fill_mode, cval=self.cval)\n",
      "  File \"/home/wayne/anaconda3/lib/python3.6/site-packages/keras_preprocessing/image.py\", line 325, in <listcomp>\n",
      "    cval=cval) for x_channel in x]\n",
      "  File \"/home/wayne/anaconda3/lib/python3.6/site-packages/keras_preprocessing/image.py\", line 325, in apply_affine_transform\n",
      "    cval=cval) for x_channel in x]\n",
      "  File \"/home/wayne/anaconda3/lib/python3.6/site-packages/keras_applications/xception.py\", line 338, in preprocess_input\n",
      "    return imagenet_utils.preprocess_input(x, mode='tf')\n",
      "  File \"/home/wayne/anaconda3/lib/python3.6/site-packages/keras_applications/imagenet_utils.py\", line 189, in preprocess_input\n",
      "    return _preprocess_numpy_input(x, data_format=data_format, mode=mode)\n",
      "  File \"/home/wayne/anaconda3/lib/python3.6/site-packages/scipy/ndimage/interpolation.py\", line 458, in affine_transform\n",
      "    output, order, mode, cval, None, None)\n",
      "KeyboardInterrupt\n",
      "  File \"/home/wayne/anaconda3/lib/python3.6/site-packages/keras_preprocessing/image.py\", line 1114, in apply_transform\n",
      "    fill_mode=self.fill_mode, cval=self.cval)\n",
      "  File \"/home/wayne/anaconda3/lib/python3.6/site-packages/keras_applications/imagenet_utils.py\", line 49, in _preprocess_numpy_input\n",
      "    x -= 1.\n",
      "  File \"/home/wayne/anaconda3/lib/python3.6/site-packages/keras_preprocessing/image.py\", line 325, in apply_affine_transform\n",
      "    cval=cval) for x_channel in x]\n",
      "  File \"/home/wayne/anaconda3/lib/python3.6/site-packages/keras_preprocessing/image.py\", line 325, in <listcomp>\n",
      "    cval=cval) for x_channel in x]\n",
      "KeyboardInterrupt\n",
      "  File \"/home/wayne/anaconda3/lib/python3.6/site-packages/scipy/ndimage/interpolation.py\", line 458, in affine_transform\n",
      "    output, order, mode, cval, None, None)\n",
      "KeyboardInterrupt\n"
     ]
    },
    {
     "ename": "KeyboardInterrupt",
     "evalue": "",
     "output_type": "error",
     "traceback": [
      "\u001b[0;31m---------------------------------------------------------------------------\u001b[0m",
      "\u001b[0;31mKeyboardInterrupt\u001b[0m                         Traceback (most recent call last)",
      "\u001b[0;32m<ipython-input-21-529d564f1d9c>\u001b[0m in \u001b[0;36m<module>\u001b[0;34m()\u001b[0m\n\u001b[1;32m      4\u001b[0m                     \u001b[0mcallbacks\u001b[0m\u001b[0;34m=\u001b[0m\u001b[0mcallbacks_list\u001b[0m\u001b[0;34m,\u001b[0m\u001b[0;34m\u001b[0m\u001b[0m\n\u001b[1;32m      5\u001b[0m                     \u001b[0mworkers\u001b[0m\u001b[0;34m=\u001b[0m\u001b[0;36m8\u001b[0m\u001b[0;34m,\u001b[0m\u001b[0;34m\u001b[0m\u001b[0m\n\u001b[0;32m----> 6\u001b[0;31m                     use_multiprocessing=True)\n\u001b[0m",
      "\u001b[0;32m~/anaconda3/lib/python3.6/site-packages/keras/legacy/interfaces.py\u001b[0m in \u001b[0;36mwrapper\u001b[0;34m(*args, **kwargs)\u001b[0m\n\u001b[1;32m     89\u001b[0m                 warnings.warn('Update your `' + object_name +\n\u001b[1;32m     90\u001b[0m                               '` call to the Keras 2 API: ' + signature, stacklevel=2)\n\u001b[0;32m---> 91\u001b[0;31m             \u001b[0;32mreturn\u001b[0m \u001b[0mfunc\u001b[0m\u001b[0;34m(\u001b[0m\u001b[0;34m*\u001b[0m\u001b[0margs\u001b[0m\u001b[0;34m,\u001b[0m \u001b[0;34m**\u001b[0m\u001b[0mkwargs\u001b[0m\u001b[0;34m)\u001b[0m\u001b[0;34m\u001b[0m\u001b[0m\n\u001b[0m\u001b[1;32m     92\u001b[0m         \u001b[0mwrapper\u001b[0m\u001b[0;34m.\u001b[0m\u001b[0m_original_function\u001b[0m \u001b[0;34m=\u001b[0m \u001b[0mfunc\u001b[0m\u001b[0;34m\u001b[0m\u001b[0m\n\u001b[1;32m     93\u001b[0m         \u001b[0;32mreturn\u001b[0m \u001b[0mwrapper\u001b[0m\u001b[0;34m\u001b[0m\u001b[0m\n",
      "\u001b[0;32m~/anaconda3/lib/python3.6/site-packages/keras/engine/training.py\u001b[0m in \u001b[0;36mfit_generator\u001b[0;34m(self, generator, steps_per_epoch, epochs, verbose, callbacks, validation_data, validation_steps, class_weight, max_queue_size, workers, use_multiprocessing, shuffle, initial_epoch)\u001b[0m\n\u001b[1;32m   1424\u001b[0m             \u001b[0muse_multiprocessing\u001b[0m\u001b[0;34m=\u001b[0m\u001b[0muse_multiprocessing\u001b[0m\u001b[0;34m,\u001b[0m\u001b[0;34m\u001b[0m\u001b[0m\n\u001b[1;32m   1425\u001b[0m             \u001b[0mshuffle\u001b[0m\u001b[0;34m=\u001b[0m\u001b[0mshuffle\u001b[0m\u001b[0;34m,\u001b[0m\u001b[0;34m\u001b[0m\u001b[0m\n\u001b[0;32m-> 1426\u001b[0;31m             initial_epoch=initial_epoch)\n\u001b[0m\u001b[1;32m   1427\u001b[0m \u001b[0;34m\u001b[0m\u001b[0m\n\u001b[1;32m   1428\u001b[0m     \u001b[0;34m@\u001b[0m\u001b[0minterfaces\u001b[0m\u001b[0;34m.\u001b[0m\u001b[0mlegacy_generator_methods_support\u001b[0m\u001b[0;34m\u001b[0m\u001b[0m\n",
      "\u001b[0;32m~/anaconda3/lib/python3.6/site-packages/keras/engine/training_generator.py\u001b[0m in \u001b[0;36mfit_generator\u001b[0;34m(model, generator, steps_per_epoch, epochs, verbose, callbacks, validation_data, validation_steps, class_weight, max_queue_size, workers, use_multiprocessing, shuffle, initial_epoch)\u001b[0m\n\u001b[1;32m    153\u001b[0m             \u001b[0mbatch_index\u001b[0m \u001b[0;34m=\u001b[0m \u001b[0;36m0\u001b[0m\u001b[0;34m\u001b[0m\u001b[0m\n\u001b[1;32m    154\u001b[0m             \u001b[0;32mwhile\u001b[0m \u001b[0msteps_done\u001b[0m \u001b[0;34m<\u001b[0m \u001b[0msteps_per_epoch\u001b[0m\u001b[0;34m:\u001b[0m\u001b[0;34m\u001b[0m\u001b[0m\n\u001b[0;32m--> 155\u001b[0;31m                 \u001b[0mgenerator_output\u001b[0m \u001b[0;34m=\u001b[0m \u001b[0mnext\u001b[0m\u001b[0;34m(\u001b[0m\u001b[0moutput_generator\u001b[0m\u001b[0;34m)\u001b[0m\u001b[0;34m\u001b[0m\u001b[0m\n\u001b[0m\u001b[1;32m    156\u001b[0m \u001b[0;34m\u001b[0m\u001b[0m\n\u001b[1;32m    157\u001b[0m                 \u001b[0;32mif\u001b[0m \u001b[0;32mnot\u001b[0m \u001b[0mhasattr\u001b[0m\u001b[0;34m(\u001b[0m\u001b[0mgenerator_output\u001b[0m\u001b[0;34m,\u001b[0m \u001b[0;34m'__len__'\u001b[0m\u001b[0;34m)\u001b[0m\u001b[0;34m:\u001b[0m\u001b[0;34m\u001b[0m\u001b[0m\n",
      "\u001b[0;32m~/anaconda3/lib/python3.6/site-packages/keras/utils/data_utils.py\u001b[0m in \u001b[0;36mget\u001b[0;34m(self)\u001b[0m\n\u001b[1;32m    576\u001b[0m         \u001b[0;32mtry\u001b[0m\u001b[0;34m:\u001b[0m\u001b[0;34m\u001b[0m\u001b[0m\n\u001b[1;32m    577\u001b[0m             \u001b[0;32mwhile\u001b[0m \u001b[0mself\u001b[0m\u001b[0;34m.\u001b[0m\u001b[0mis_running\u001b[0m\u001b[0;34m(\u001b[0m\u001b[0;34m)\u001b[0m\u001b[0;34m:\u001b[0m\u001b[0;34m\u001b[0m\u001b[0m\n\u001b[0;32m--> 578\u001b[0;31m                 \u001b[0minputs\u001b[0m \u001b[0;34m=\u001b[0m \u001b[0mself\u001b[0m\u001b[0;34m.\u001b[0m\u001b[0mqueue\u001b[0m\u001b[0;34m.\u001b[0m\u001b[0mget\u001b[0m\u001b[0;34m(\u001b[0m\u001b[0mblock\u001b[0m\u001b[0;34m=\u001b[0m\u001b[0;32mTrue\u001b[0m\u001b[0;34m)\u001b[0m\u001b[0;34m.\u001b[0m\u001b[0mget\u001b[0m\u001b[0;34m(\u001b[0m\u001b[0;34m)\u001b[0m\u001b[0;34m\u001b[0m\u001b[0m\n\u001b[0m\u001b[1;32m    579\u001b[0m                 \u001b[0mself\u001b[0m\u001b[0;34m.\u001b[0m\u001b[0mqueue\u001b[0m\u001b[0;34m.\u001b[0m\u001b[0mtask_done\u001b[0m\u001b[0;34m(\u001b[0m\u001b[0;34m)\u001b[0m\u001b[0;34m\u001b[0m\u001b[0m\n\u001b[1;32m    580\u001b[0m                 \u001b[0;32mif\u001b[0m \u001b[0minputs\u001b[0m \u001b[0;32mis\u001b[0m \u001b[0;32mnot\u001b[0m \u001b[0;32mNone\u001b[0m\u001b[0;34m:\u001b[0m\u001b[0;34m\u001b[0m\u001b[0m\n",
      "\u001b[0;32m~/anaconda3/lib/python3.6/multiprocessing/pool.py\u001b[0m in \u001b[0;36mget\u001b[0;34m(self, timeout)\u001b[0m\n\u001b[1;32m    636\u001b[0m \u001b[0;34m\u001b[0m\u001b[0m\n\u001b[1;32m    637\u001b[0m     \u001b[0;32mdef\u001b[0m \u001b[0mget\u001b[0m\u001b[0;34m(\u001b[0m\u001b[0mself\u001b[0m\u001b[0;34m,\u001b[0m \u001b[0mtimeout\u001b[0m\u001b[0;34m=\u001b[0m\u001b[0;32mNone\u001b[0m\u001b[0;34m)\u001b[0m\u001b[0;34m:\u001b[0m\u001b[0;34m\u001b[0m\u001b[0m\n\u001b[0;32m--> 638\u001b[0;31m         \u001b[0mself\u001b[0m\u001b[0;34m.\u001b[0m\u001b[0mwait\u001b[0m\u001b[0;34m(\u001b[0m\u001b[0mtimeout\u001b[0m\u001b[0;34m)\u001b[0m\u001b[0;34m\u001b[0m\u001b[0m\n\u001b[0m\u001b[1;32m    639\u001b[0m         \u001b[0;32mif\u001b[0m \u001b[0;32mnot\u001b[0m \u001b[0mself\u001b[0m\u001b[0;34m.\u001b[0m\u001b[0mready\u001b[0m\u001b[0;34m(\u001b[0m\u001b[0;34m)\u001b[0m\u001b[0;34m:\u001b[0m\u001b[0;34m\u001b[0m\u001b[0m\n\u001b[1;32m    640\u001b[0m             \u001b[0;32mraise\u001b[0m \u001b[0mTimeoutError\u001b[0m\u001b[0;34m\u001b[0m\u001b[0m\n",
      "\u001b[0;32m~/anaconda3/lib/python3.6/multiprocessing/pool.py\u001b[0m in \u001b[0;36mwait\u001b[0;34m(self, timeout)\u001b[0m\n\u001b[1;32m    633\u001b[0m \u001b[0;34m\u001b[0m\u001b[0m\n\u001b[1;32m    634\u001b[0m     \u001b[0;32mdef\u001b[0m \u001b[0mwait\u001b[0m\u001b[0;34m(\u001b[0m\u001b[0mself\u001b[0m\u001b[0;34m,\u001b[0m \u001b[0mtimeout\u001b[0m\u001b[0;34m=\u001b[0m\u001b[0;32mNone\u001b[0m\u001b[0;34m)\u001b[0m\u001b[0;34m:\u001b[0m\u001b[0;34m\u001b[0m\u001b[0m\n\u001b[0;32m--> 635\u001b[0;31m         \u001b[0mself\u001b[0m\u001b[0;34m.\u001b[0m\u001b[0m_event\u001b[0m\u001b[0;34m.\u001b[0m\u001b[0mwait\u001b[0m\u001b[0;34m(\u001b[0m\u001b[0mtimeout\u001b[0m\u001b[0;34m)\u001b[0m\u001b[0;34m\u001b[0m\u001b[0m\n\u001b[0m\u001b[1;32m    636\u001b[0m \u001b[0;34m\u001b[0m\u001b[0m\n\u001b[1;32m    637\u001b[0m     \u001b[0;32mdef\u001b[0m \u001b[0mget\u001b[0m\u001b[0;34m(\u001b[0m\u001b[0mself\u001b[0m\u001b[0;34m,\u001b[0m \u001b[0mtimeout\u001b[0m\u001b[0;34m=\u001b[0m\u001b[0;32mNone\u001b[0m\u001b[0;34m)\u001b[0m\u001b[0;34m:\u001b[0m\u001b[0;34m\u001b[0m\u001b[0m\n",
      "\u001b[0;32m~/anaconda3/lib/python3.6/threading.py\u001b[0m in \u001b[0;36mwait\u001b[0;34m(self, timeout)\u001b[0m\n\u001b[1;32m    549\u001b[0m             \u001b[0msignaled\u001b[0m \u001b[0;34m=\u001b[0m \u001b[0mself\u001b[0m\u001b[0;34m.\u001b[0m\u001b[0m_flag\u001b[0m\u001b[0;34m\u001b[0m\u001b[0m\n\u001b[1;32m    550\u001b[0m             \u001b[0;32mif\u001b[0m \u001b[0;32mnot\u001b[0m \u001b[0msignaled\u001b[0m\u001b[0;34m:\u001b[0m\u001b[0;34m\u001b[0m\u001b[0m\n\u001b[0;32m--> 551\u001b[0;31m                 \u001b[0msignaled\u001b[0m \u001b[0;34m=\u001b[0m \u001b[0mself\u001b[0m\u001b[0;34m.\u001b[0m\u001b[0m_cond\u001b[0m\u001b[0;34m.\u001b[0m\u001b[0mwait\u001b[0m\u001b[0;34m(\u001b[0m\u001b[0mtimeout\u001b[0m\u001b[0;34m)\u001b[0m\u001b[0;34m\u001b[0m\u001b[0m\n\u001b[0m\u001b[1;32m    552\u001b[0m             \u001b[0;32mreturn\u001b[0m \u001b[0msignaled\u001b[0m\u001b[0;34m\u001b[0m\u001b[0m\n\u001b[1;32m    553\u001b[0m \u001b[0;34m\u001b[0m\u001b[0m\n",
      "\u001b[0;32m~/anaconda3/lib/python3.6/threading.py\u001b[0m in \u001b[0;36mwait\u001b[0;34m(self, timeout)\u001b[0m\n\u001b[1;32m    293\u001b[0m         \u001b[0;32mtry\u001b[0m\u001b[0;34m:\u001b[0m    \u001b[0;31m# restore state no matter what (e.g., KeyboardInterrupt)\u001b[0m\u001b[0;34m\u001b[0m\u001b[0m\n\u001b[1;32m    294\u001b[0m             \u001b[0;32mif\u001b[0m \u001b[0mtimeout\u001b[0m \u001b[0;32mis\u001b[0m \u001b[0;32mNone\u001b[0m\u001b[0;34m:\u001b[0m\u001b[0;34m\u001b[0m\u001b[0m\n\u001b[0;32m--> 295\u001b[0;31m                 \u001b[0mwaiter\u001b[0m\u001b[0;34m.\u001b[0m\u001b[0macquire\u001b[0m\u001b[0;34m(\u001b[0m\u001b[0;34m)\u001b[0m\u001b[0;34m\u001b[0m\u001b[0m\n\u001b[0m\u001b[1;32m    296\u001b[0m                 \u001b[0mgotit\u001b[0m \u001b[0;34m=\u001b[0m \u001b[0;32mTrue\u001b[0m\u001b[0;34m\u001b[0m\u001b[0m\n\u001b[1;32m    297\u001b[0m             \u001b[0;32melse\u001b[0m\u001b[0;34m:\u001b[0m\u001b[0;34m\u001b[0m\u001b[0m\n",
      "\u001b[0;31mKeyboardInterrupt\u001b[0m: "
     ]
    }
   ],
   "source": [
    "model.fit_generator(train_generator,\n",
    "                    epochs=nb_epoch / 5,\n",
    "                    validation_data=validation_generator,\n",
    "                    callbacks=callbacks_list,\n",
    "                    workers=8,\n",
    "                    use_multiprocessing=True)"
   ]
  },
  {
   "cell_type": "code",
   "execution_count": 23,
   "metadata": {},
   "outputs": [],
   "source": [
    "model.load_weights(top_weights_path)"
   ]
  },
  {
   "cell_type": "code",
   "execution_count": 24,
   "metadata": {},
   "outputs": [],
   "source": [
    "for layer in model.layers[:based_model_last_block_layer_number]:\n",
    "    layer.trainable = False\n",
    "for layer in model.layers[based_model_last_block_layer_number:]:\n",
    "    layer.trainable = True"
   ]
  },
  {
   "cell_type": "code",
   "execution_count": 25,
   "metadata": {},
   "outputs": [],
   "source": [
    "model.compile(optimizer='nadam',\n",
    "              loss=categorical_crossentropy, metrics=['accuracy',])"
   ]
  },
  {
   "cell_type": "code",
   "execution_count": 26,
   "metadata": {},
   "outputs": [],
   "source": [
    "final_weights_path = os.path.join(model_path, 'model_weights_v7.h5')\n",
    "csv_path = os.path.join(model_path, 'model_csv_v7.csv')\n",
    "callbacks_list = [\n",
    "    ModelCheckpoint(final_weights_path, monitor='val_acc', verbose=1, save_best_only=True),\n",
    "    EarlyStopping(monitor='loss', patience=20, verbose=0),\n",
    "    CSVLogger(csv_path, separator=',', append=False)\n",
    "]"
   ]
  },
  {
   "cell_type": "code",
   "execution_count": 27,
   "metadata": {},
   "outputs": [
    {
     "name": "stdout",
     "output_type": "stream",
     "text": [
      "Epoch 1/100\n",
      "85/85 [==============================] - 61s 723ms/step - loss: 0.9815 - acc: 0.7552 - val_loss: 0.9778 - val_acc: 0.7304\n",
      "\n",
      "Epoch 00001: val_acc improved from -inf to 0.73038, saving model to ../data/aia-picture-classification1/model/model_weights_v7.h5\n",
      "Epoch 2/100\n",
      "85/85 [==============================] - 54s 630ms/step - loss: 0.4234 - acc: 0.8617 - val_loss: 0.8429 - val_acc: 0.7747\n",
      "\n",
      "Epoch 00002: val_acc improved from 0.73038 to 0.77474, saving model to ../data/aia-picture-classification1/model/model_weights_v7.h5\n",
      "Epoch 3/100\n",
      "85/85 [==============================] - 54s 636ms/step - loss: 0.3509 - acc: 0.8835 - val_loss: 1.0632 - val_acc: 0.7167\n",
      "\n",
      "Epoch 00003: val_acc did not improve from 0.77474\n",
      "Epoch 4/100\n",
      "85/85 [==============================] - 55s 641ms/step - loss: 0.2997 - acc: 0.8948 - val_loss: 0.8082 - val_acc: 0.7509\n",
      "\n",
      "Epoch 00004: val_acc did not improve from 0.77474\n",
      "Epoch 5/100\n",
      "85/85 [==============================] - 54s 635ms/step - loss: 0.2632 - acc: 0.9103 - val_loss: 0.6737 - val_acc: 0.7747\n",
      "\n",
      "Epoch 00005: val_acc did not improve from 0.77474\n",
      "Epoch 6/100\n",
      "85/85 [==============================] - 53s 627ms/step - loss: 0.2253 - acc: 0.9283 - val_loss: 0.8237 - val_acc: 0.7645\n",
      "\n",
      "Epoch 00006: val_acc did not improve from 0.77474\n",
      "Epoch 7/100\n",
      "85/85 [==============================] - 54s 638ms/step - loss: 0.2452 - acc: 0.9224 - val_loss: 0.8379 - val_acc: 0.7372\n",
      "\n",
      "Epoch 00007: val_acc did not improve from 0.77474\n",
      "Epoch 8/100\n",
      "85/85 [==============================] - 54s 634ms/step - loss: 0.2086 - acc: 0.9335 - val_loss: 1.0024 - val_acc: 0.7338\n",
      "\n",
      "Epoch 00008: val_acc did not improve from 0.77474\n",
      "Epoch 9/100\n",
      "85/85 [==============================] - 55s 644ms/step - loss: 0.2116 - acc: 0.9228 - val_loss: 0.7246 - val_acc: 0.7952\n",
      "\n",
      "Epoch 00009: val_acc improved from 0.77474 to 0.79522, saving model to ../data/aia-picture-classification1/model/model_weights_v7.h5\n",
      "Epoch 10/100\n",
      "85/85 [==============================] - 55s 645ms/step - loss: 0.2310 - acc: 0.9276 - val_loss: 0.8385 - val_acc: 0.7679\n",
      "\n",
      "Epoch 00010: val_acc did not improve from 0.79522\n",
      "Epoch 11/100\n",
      "85/85 [==============================] - 54s 639ms/step - loss: 0.1768 - acc: 0.9404 - val_loss: 1.0801 - val_acc: 0.6928\n",
      "\n",
      "Epoch 00011: val_acc did not improve from 0.79522\n",
      "Epoch 12/100\n",
      "85/85 [==============================] - 54s 632ms/step - loss: 0.1781 - acc: 0.9415 - val_loss: 0.7427 - val_acc: 0.8055\n",
      "\n",
      "Epoch 00012: val_acc improved from 0.79522 to 0.80546, saving model to ../data/aia-picture-classification1/model/model_weights_v7.h5\n",
      "Epoch 13/100\n",
      "85/85 [==============================] - 53s 625ms/step - loss: 0.1639 - acc: 0.9489 - val_loss: 0.7443 - val_acc: 0.7918\n",
      "\n",
      "Epoch 00013: val_acc did not improve from 0.80546\n",
      "Epoch 14/100\n",
      "85/85 [==============================] - 53s 622ms/step - loss: 0.1365 - acc: 0.9555 - val_loss: 0.6790 - val_acc: 0.7816\n",
      "\n",
      "Epoch 00014: val_acc did not improve from 0.80546\n",
      "Epoch 15/100\n",
      "85/85 [==============================] - 54s 640ms/step - loss: 0.1313 - acc: 0.9596 - val_loss: 0.5936 - val_acc: 0.8123\n",
      "\n",
      "Epoch 00015: val_acc improved from 0.80546 to 0.81229, saving model to ../data/aia-picture-classification1/model/model_weights_v7.h5\n",
      "Epoch 16/100\n",
      "85/85 [==============================] - 54s 633ms/step - loss: 0.1844 - acc: 0.9452 - val_loss: 0.6574 - val_acc: 0.8089\n",
      "\n",
      "Epoch 00016: val_acc did not improve from 0.81229\n",
      "Epoch 17/100\n",
      "85/85 [==============================] - 54s 639ms/step - loss: 0.1447 - acc: 0.9522 - val_loss: 0.5382 - val_acc: 0.8123\n",
      "\n",
      "Epoch 00017: val_acc did not improve from 0.81229\n",
      "Epoch 18/100\n",
      "85/85 [==============================] - 53s 628ms/step - loss: 0.1148 - acc: 0.9632 - val_loss: 0.6083 - val_acc: 0.8123\n",
      "\n",
      "Epoch 00018: val_acc did not improve from 0.81229\n",
      "Epoch 19/100\n",
      "85/85 [==============================] - 54s 641ms/step - loss: 0.1640 - acc: 0.9449 - val_loss: 0.6124 - val_acc: 0.8157\n",
      "\n",
      "Epoch 00019: val_acc improved from 0.81229 to 0.81570, saving model to ../data/aia-picture-classification1/model/model_weights_v7.h5\n",
      "Epoch 20/100\n",
      "85/85 [==============================] - 55s 643ms/step - loss: 0.1558 - acc: 0.9526 - val_loss: 0.7150 - val_acc: 0.8020\n",
      "\n",
      "Epoch 00020: val_acc did not improve from 0.81570\n",
      "Epoch 21/100\n",
      "85/85 [==============================] - 54s 631ms/step - loss: 0.1397 - acc: 0.9508 - val_loss: 0.9003 - val_acc: 0.7440\n",
      "\n",
      "Epoch 00021: val_acc did not improve from 0.81570\n",
      "Epoch 22/100\n",
      "85/85 [==============================] - 55s 650ms/step - loss: 0.1367 - acc: 0.9614 - val_loss: 0.7348 - val_acc: 0.7782\n",
      "\n",
      "Epoch 00022: val_acc did not improve from 0.81570\n",
      "Epoch 23/100\n",
      "85/85 [==============================] - 53s 625ms/step - loss: 0.1180 - acc: 0.9629 - val_loss: 0.8122 - val_acc: 0.7611\n",
      "\n",
      "Epoch 00023: val_acc did not improve from 0.81570\n",
      "Epoch 24/100\n",
      "85/85 [==============================] - 54s 637ms/step - loss: 0.1801 - acc: 0.9500 - val_loss: 0.8651 - val_acc: 0.7747\n",
      "\n",
      "Epoch 00024: val_acc did not improve from 0.81570\n",
      "Epoch 25/100\n",
      "85/85 [==============================] - 54s 632ms/step - loss: 0.1332 - acc: 0.9508 - val_loss: 0.7096 - val_acc: 0.8225\n",
      "\n",
      "Epoch 00025: val_acc improved from 0.81570 to 0.82253, saving model to ../data/aia-picture-classification1/model/model_weights_v7.h5\n",
      "Epoch 26/100\n",
      "85/85 [==============================] - 55s 646ms/step - loss: 0.1127 - acc: 0.9614 - val_loss: 0.9427 - val_acc: 0.7782\n",
      "\n",
      "Epoch 00026: val_acc did not improve from 0.82253\n",
      "Epoch 27/100\n",
      "85/85 [==============================] - 53s 629ms/step - loss: 0.1107 - acc: 0.9622 - val_loss: 0.5372 - val_acc: 0.8225\n",
      "\n",
      "Epoch 00027: val_acc improved from 0.82253 to 0.82253, saving model to ../data/aia-picture-classification1/model/model_weights_v7.h5\n",
      "Epoch 28/100\n",
      "85/85 [==============================] - 54s 633ms/step - loss: 0.1165 - acc: 0.9618 - val_loss: 0.7709 - val_acc: 0.8123\n",
      "\n",
      "Epoch 00028: val_acc did not improve from 0.82253\n",
      "Epoch 29/100\n",
      "85/85 [==============================] - 53s 626ms/step - loss: 0.1682 - acc: 0.9508 - val_loss: 0.7804 - val_acc: 0.7952\n",
      "\n",
      "Epoch 00029: val_acc did not improve from 0.82253\n",
      "Epoch 30/100\n",
      "85/85 [==============================] - 55s 645ms/step - loss: 0.0899 - acc: 0.9710 - val_loss: 0.8534 - val_acc: 0.7577\n",
      "\n",
      "Epoch 00030: val_acc did not improve from 0.82253\n",
      "Epoch 31/100\n",
      "85/85 [==============================] - 54s 635ms/step - loss: 0.0995 - acc: 0.9643 - val_loss: 0.8602 - val_acc: 0.7918\n",
      "\n",
      "Epoch 00031: val_acc did not improve from 0.82253\n",
      "Epoch 32/100\n",
      "85/85 [==============================] - 54s 635ms/step - loss: 0.1242 - acc: 0.9563 - val_loss: 0.8657 - val_acc: 0.7884\n",
      "\n",
      "Epoch 00032: val_acc did not improve from 0.82253\n",
      "Epoch 33/100\n",
      "85/85 [==============================] - 54s 634ms/step - loss: 0.1354 - acc: 0.9600 - val_loss: 0.7754 - val_acc: 0.7952\n",
      "\n",
      "Epoch 00033: val_acc did not improve from 0.82253\n",
      "Epoch 34/100\n",
      "85/85 [==============================] - 54s 638ms/step - loss: 0.1141 - acc: 0.9622 - val_loss: 0.8203 - val_acc: 0.7986\n",
      "\n",
      "Epoch 00034: val_acc did not improve from 0.82253\n",
      "Epoch 35/100\n",
      "85/85 [==============================] - 55s 643ms/step - loss: 0.1402 - acc: 0.9600 - val_loss: 1.0049 - val_acc: 0.7782\n",
      "\n",
      "Epoch 00035: val_acc did not improve from 0.82253\n",
      "Epoch 36/100\n",
      "34/85 [===========>..................] - ETA: 23s - loss: 0.0899 - acc: 0.9678"
     ]
    },
    {
     "name": "stderr",
     "output_type": "stream",
     "text": [
      "IOPub message rate exceeded.\n",
      "The notebook server will temporarily stop sending output\n",
      "to the client in order to avoid crashing it.\n",
      "To change this limit, set the config variable\n",
      "`--NotebookApp.iopub_msg_rate_limit`.\n",
      "\n",
      "Current values:\n",
      "NotebookApp.iopub_msg_rate_limit=1000.0 (msgs/sec)\n",
      "NotebookApp.rate_limit_window=3.0 (secs)\n",
      "\n"
     ]
    }
   ],
   "source": [
    "# fine-tune the model\n",
    "model.fit_generator(train_generator,\n",
    "                    epochs=nb_epoch,\n",
    "                    validation_data=validation_generator,\n",
    "                    callbacks=callbacks_list,\n",
    "                    workers=8,\n",
    "                    use_multiprocessing=True)\n",
    "\n",
    "# save model\n",
    "model_json = model.to_json()\n",
    "with open(os.path.join(model_path, 'model_v7.json'), 'w') as json_file:\n",
    "    json_file.write(model_json)"
   ]
  },
  {
   "cell_type": "code",
   "execution_count": 29,
   "metadata": {},
   "outputs": [],
   "source": [
    "model.load_weights(final_weights_path)"
   ]
  },
  {
   "cell_type": "code",
   "execution_count": 32,
   "metadata": {},
   "outputs": [],
   "source": [
    "X_l_vec = model.predict_generator(generator=test_generator)"
   ]
  },
  {
   "cell_type": "code",
   "execution_count": 34,
   "metadata": {},
   "outputs": [],
   "source": [
    "predict_index = np.argmax(X_l_vec, axis=-1)"
   ]
  },
  {
   "cell_type": "code",
   "execution_count": 35,
   "metadata": {},
   "outputs": [],
   "source": [
    "fnames = [_f.split('/')[1].replace('.jpg','') for _f in test_generator.filenames]"
   ]
  },
  {
   "cell_type": "code",
   "execution_count": 36,
   "metadata": {},
   "outputs": [
    {
     "data": {
      "text/plain": [
       "array([ 9,  4,  6, ..., 10, 11,  7])"
      ]
     },
     "execution_count": 36,
     "metadata": {},
     "output_type": "execute_result"
    }
   ],
   "source": [
    "predict_index"
   ]
  },
  {
   "cell_type": "code",
   "execution_count": 37,
   "metadata": {},
   "outputs": [
    {
     "data": {
      "text/plain": [
       "'001d4c8d70ebf7f025fccf256324d3d5ad3560faee1cdf8c7115f5eb033bc3d2'"
      ]
     },
     "execution_count": 37,
     "metadata": {},
     "output_type": "execute_result"
    }
   ],
   "source": [
    "fnames[0]"
   ]
  },
  {
   "cell_type": "code",
   "execution_count": 38,
   "metadata": {},
   "outputs": [],
   "source": [
    "class_list = [None] * len(train_generator.class_indices)\n",
    "for _item in train_generator.class_indices:\n",
    "    class_list[train_generator.class_indices[_item]] = _item"
   ]
  },
  {
   "cell_type": "code",
   "execution_count": 39,
   "metadata": {},
   "outputs": [
    {
     "data": {
      "text/plain": [
       "{'CALsuburb': 0,\n",
       " 'PARoffice': 1,\n",
       " 'bedroom': 2,\n",
       " 'coast': 3,\n",
       " 'forest': 4,\n",
       " 'highway': 5,\n",
       " 'industrial': 6,\n",
       " 'insidecity': 7,\n",
       " 'kitchen': 8,\n",
       " 'livingroom': 9,\n",
       " 'mountain': 10,\n",
       " 'opencountry': 11,\n",
       " 'store': 12,\n",
       " 'street': 13,\n",
       " 'tallbuilding': 14}"
      ]
     },
     "execution_count": 39,
     "metadata": {},
     "output_type": "execute_result"
    }
   ],
   "source": [
    "train_generator.class_indices"
   ]
  },
  {
   "cell_type": "code",
   "execution_count": 40,
   "metadata": {},
   "outputs": [
    {
     "data": {
      "text/plain": [
       "(1500,)"
      ]
     },
     "execution_count": 40,
     "metadata": {},
     "output_type": "execute_result"
    }
   ],
   "source": [
    "predict_index.shape"
   ]
  },
  {
   "cell_type": "code",
   "execution_count": 41,
   "metadata": {},
   "outputs": [
    {
     "data": {
      "text/plain": [
       "{'CALsuburb': 9,\n",
       " 'PARoffice': 7,\n",
       " 'bedroom': 12,\n",
       " 'coast': 10,\n",
       " 'forest': 4,\n",
       " 'highway': 14,\n",
       " 'industrial': 2,\n",
       " 'insidecity': 3,\n",
       " 'kitchen': 0,\n",
       " 'livingroom': 5,\n",
       " 'mountain': 8,\n",
       " 'opencountry': 6,\n",
       " 'store': 11,\n",
       " 'street': 1,\n",
       " 'tallbuilding': 13}"
      ]
     },
     "execution_count": 41,
     "metadata": {},
     "output_type": "execute_result"
    }
   ],
   "source": [
    "mtype_dict"
   ]
  },
  {
   "cell_type": "code",
   "execution_count": 42,
   "metadata": {},
   "outputs": [],
   "source": [
    "cateidxs = [mtype_dict[class_list[_p]] for _p in predict_index]"
   ]
  },
  {
   "cell_type": "code",
   "execution_count": 43,
   "metadata": {},
   "outputs": [],
   "source": [
    "percentile_list = pd.DataFrame(\n",
    "    {'id': fnames,\n",
    "     'class': cateidxs\n",
    "    })"
   ]
  },
  {
   "cell_type": "code",
   "execution_count": 44,
   "metadata": {},
   "outputs": [],
   "source": [
    "percentile_list.to_csv('out_7.csv',encoding='utf-8', index=False,columns=[\"id\",\"class\"])"
   ]
  },
  {
   "cell_type": "code",
   "execution_count": null,
   "metadata": {},
   "outputs": [],
   "source": []
  }
 ],
 "metadata": {
  "kernelspec": {
   "display_name": "Python 3",
   "language": "python",
   "name": "python3"
  },
  "language_info": {
   "codemirror_mode": {
    "name": "ipython",
    "version": 3
   },
   "file_extension": ".py",
   "mimetype": "text/x-python",
   "name": "python",
   "nbconvert_exporter": "python",
   "pygments_lexer": "ipython3",
   "version": "3.6.5"
  }
 },
 "nbformat": 4,
 "nbformat_minor": 2
}
